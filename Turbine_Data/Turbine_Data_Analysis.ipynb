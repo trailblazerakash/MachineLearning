{
 "cells": [
  {
   "cell_type": "code",
   "execution_count": 5,
   "metadata": {
    "collapsed": false
   },
   "outputs": [],
   "source": [
    "import requests\n",
    "import json\n",
    "import pandas as pd\n",
    "from pandas.io.json import json_normalize\n",
    "\n",
    "path1 = '42.974049,-81.205203|42.974298,-81.195755'\n",
    "request=requests.get('https://exactspace.co/sensordata/profile-turbine')\n",
    "data = request.json()\n",
    "\n",
    "\n",
    "#df.cloumns"
   ]
  },
  {
   "cell_type": "code",
   "execution_count": 6,
   "metadata": {
    "collapsed": false
   },
   "outputs": [
    {
     "name": "stdout",
     "output_type": "stream",
     "text": [
      "Index([u'EI_27901', u'MAY91CX210', u'PI19110', u'PIC11107_x', u'PIC11107_y',\n",
      "       u'PIRS14109', u'PISA19102', u'PI_19115', u'SIRSA14715', u'STM_FLOW',\n",
      "       u'TIR01209', u'TIRA14228', u'TIRA_14230', u'TIRA_19201', u'TIRSC14215',\n",
      "       u'TIR_19206', u'TISA_11201', u'time'],\n",
      "      dtype='object')\n"
     ]
    }
   ],
   "source": [
    "info=data['data']\n",
    "desc=data['description']\n",
    "df = pd.DataFrame.from_dict(json_normalize(json.loads(info)), orient='columns')\n",
    "print(df.columns)"
   ]
  },
  {
   "cell_type": "code",
   "execution_count": 7,
   "metadata": {
    "collapsed": false
   },
   "outputs": [
    {
     "name": "stdout",
     "output_type": "stream",
     "text": [
      "[{u'tag': u'EI_27901', u'description': u'UNIT LOAD'}, {u'tag': u'TIRA14228', u'description': u'TURBINE FRONT BEARING TEMPERATURE'}, {u'tag': u'TIRA_14230', u'description': u'TURBINE REAR BEARING TEMPERATURE'}, {u'tag': u'PIC11107', u'description': u'DUMP STEAM PRESSURE'}, {u'tag': u'MAY91CX210', u'description': u'TURBINE EXHAUST PRESSURE'}, {u'tag': u'TIR01209', u'description': u'TURBINE EXHAUST TEMPERATURE'}, {u'tag': u'PIC11107', u'description': u'GLAND STEAM PRESSURE CONTROL'}, {u'tag': u'TISA_11201', u'description': u'GLAND SEAL TEMPERATURE CONTROL'}, {u'tag': u'PIRS14109', u'description': u'LUBE OIL HEADER PRESSURE'}, {u'tag': u'PISA19102', u'description': u'MAIN STEAM PRESSURE'}, {u'tag': u'TIRA_19201', u'description': u'MAIN STEAM TEMPERATURE'}, {u'tag': u'STM_FLOW', u'description': u'COMPENSATED MS FLOW'}, {u'tag': u'SIRSA14715', u'description': u'TURBINE SPEED'}, {u'tag': u'PI19110', u'description': u'WHEELCHAMBER PRESSURE'}, {u'tag': u'PI_19115', u'description': u'EXTRACTION 1 STEAM PRESSURE (ALL STAGES)'}, {u'tag': u'TIR_19206', u'description': u'EXTRACTION 1 STEAM TEMPERATURE (ALL STAGES)'}, {u'tag': u'TIRSC14215', u'description': u'MAIN OIL TEMPERATURE AFTER COOLERS'}]\n"
     ]
    }
   ],
   "source": [
    "print(desc)"
   ]
  },
  {
   "cell_type": "code",
   "execution_count": 8,
   "metadata": {
    "collapsed": false
   },
   "outputs": [
    {
     "name": "stdout",
     "output_type": "stream",
     "text": [
      "{u'EI_27901': u'UNIT LOAD', u'PI19110': u'WHEELCHAMBER PRESSURE', u'SIRSA14715': u'TURBINE SPEED', u'TIRA14228': u'TURBINE FRONT BEARING TEMPERATURE', u'PIC11107': u'GLAND STEAM PRESSURE CONTROL', u'TIR_19206': u'EXTRACTION 1 STEAM TEMPERATURE (ALL STAGES)', u'PIRS14109': u'LUBE OIL HEADER PRESSURE', u'STM_FLOW': u'COMPENSATED MS FLOW', u'PISA19102': u'MAIN STEAM PRESSURE', u'MAY91CX210': u'TURBINE EXHAUST PRESSURE', u'TIRA_19201': u'MAIN STEAM TEMPERATURE', u'TIRA_14230': u'TURBINE REAR BEARING TEMPERATURE', u'PI_19115': u'EXTRACTION 1 STEAM PRESSURE (ALL STAGES)', u'TIRSC14215': u'MAIN OIL TEMPERATURE AFTER COOLERS', u'TISA_11201': u'GLAND SEAL TEMPERATURE CONTROL', u'TIR01209': u'TURBINE EXHAUST TEMPERATURE'}\n"
     ]
    }
   ],
   "source": [
    "d={}\n",
    "for tag in desc:\n",
    "    d[tag['tag']]=tag['description']\n",
    "print(d)"
   ]
  },
  {
   "cell_type": "code",
   "execution_count": 11,
   "metadata": {
    "collapsed": false
   },
   "outputs": [
    {
     "name": "stdout",
     "output_type": "stream",
     "text": [
      "Index([u'UNIT LOAD', u'TURBINE EXHAUST PRESSURE', u'WHEELCHAMBER PRESSURE',\n",
      "       u'PIC11107_x', u'PIC11107_y', u'LUBE OIL HEADER PRESSURE',\n",
      "       u'MAIN STEAM PRESSURE', u'EXTRACTION 1 STEAM PRESSURE (ALL STAGES)',\n",
      "       u'TURBINE SPEED', u'COMPENSATED MS FLOW',\n",
      "       u'TURBINE EXHAUST TEMPERATURE', u'TURBINE FRONT BEARING TEMPERATURE',\n",
      "       u'TURBINE REAR BEARING TEMPERATURE', u'MAIN STEAM TEMPERATURE',\n",
      "       u'MAIN OIL TEMPERATURE AFTER COOLERS',\n",
      "       u'EXTRACTION 1 STEAM TEMPERATURE (ALL STAGES)',\n",
      "       u'GLAND SEAL TEMPERATURE CONTROL', u'time'],\n",
      "      dtype='object')\n"
     ]
    }
   ],
   "source": [
    "    \n",
    "df.rename(columns=d,inplace=True)\n",
    "print(df.columns)"
   ]
  },
  {
   "cell_type": "code",
   "execution_count": 18,
   "metadata": {
    "collapsed": false
   },
   "outputs": [],
   "source": [
    "import graphlab as gl\n",
    "gl.canvas.set_target('ipynb')\n",
    "train=gl.SFrame(df,format='dataframe')"
   ]
  },
  {
   "cell_type": "code",
   "execution_count": null,
   "metadata": {
    "collapsed": false
   },
   "outputs": [],
   "source": [
    "train.show()"
   ]
  },
  {
   "cell_type": "code",
   "execution_count": null,
   "metadata": {
    "collapsed": true
   },
   "outputs": [],
   "source": []
  }
 ],
 "metadata": {
  "kernelspec": {
   "display_name": "Python 2",
   "language": "python",
   "name": "python2"
  },
  "language_info": {
   "codemirror_mode": {
    "name": "ipython",
    "version": 2
   },
   "file_extension": ".py",
   "mimetype": "text/x-python",
   "name": "python",
   "nbconvert_exporter": "python",
   "pygments_lexer": "ipython2",
   "version": "2.7.13"
  }
 },
 "nbformat": 4,
 "nbformat_minor": 0
}
