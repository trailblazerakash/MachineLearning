{
 "cells": [
  {
   "cell_type": "markdown",
   "metadata": {},
   "source": [
    "# # Question\n",
    "\n",
    "Q1.Analysie Account dataframe\n",
    "Q2. track down active deals\n",
    "\n",
    "\n",
    "\n",
    "\n"
   ]
  },
  {
   "cell_type": "code",
   "execution_count": 1,
   "metadata": {
    "collapsed": false
   },
   "outputs": [],
   "source": [
    "import numpy as np\n",
    "import pandas as pd"
   ]
  },
  {
   "cell_type": "code",
   "execution_count": 2,
   "metadata": {
    "collapsed": false
   },
   "outputs": [],
   "source": [
    "#Loading Dataset\n",
    "accounts=pd.read_csv('Dataset/Accounts.csv')\n",
    "account_properties=pd.read_csv('Dataset/Accounts_properties.csv')\n",
    "deals=pd.read_csv('Dataset/Deals_to_Properties.csv')\n",
    "opportunities =pd.read_csv('Dataset/Opportunities.csv')\n",
    "properties = pd.read_csv('Dataset/Properties.csv')\n",
    "test_data= pd.read_csv('Dataset/Test_Data.csv')"
   ]
  },
  {
   "cell_type": "markdown",
   "metadata": {},
   "source": [
    "# Data Analysis"
   ]
  },
  {
   "cell_type": "code",
   "execution_count": 3,
   "metadata": {
    "collapsed": false
   },
   "outputs": [
    {
     "data": {
      "text/plain": [
       "id_accs                          2756\n",
       "active_deals                     2756\n",
       "activity_count                   2756\n",
       "buyer_book                       2756\n",
       "servicing_contract               2756\n",
       "investor_type                    2735\n",
       "cmbs                             2756\n",
       "consultant                       2756\n",
       "correspondent                    2756\n",
       "foreign                          2756\n",
       "master_servicer                  2756\n",
       "lender_book                      2756\n",
       "loan_sales_book                  2756\n",
       "loan_servicing                   2756\n",
       "num_deals_as_client              2756\n",
       "num_deals_as_investor            2756\n",
       "number_of_properties             2756\n",
       "number_of_related_deals          2756\n",
       "number_of_related_properties     2756\n",
       "number_of_won_deals_as_client    2756\n",
       "dtype: int64"
      ]
     },
     "execution_count": 3,
     "metadata": {},
     "output_type": "execute_result"
    }
   ],
   "source": [
    "accounts.count()"
   ]
  },
  {
   "cell_type": "code",
   "execution_count": 4,
   "metadata": {
    "collapsed": false
   },
   "outputs": [
    {
     "data": {
      "text/plain": [
       "id_accs                           0\n",
       "active_deals                      0\n",
       "activity_count                    0\n",
       "buyer_book                        0\n",
       "servicing_contract                0\n",
       "investor_type                    21\n",
       "cmbs                              0\n",
       "consultant                        0\n",
       "correspondent                     0\n",
       "foreign                           0\n",
       "master_servicer                   0\n",
       "lender_book                       0\n",
       "loan_sales_book                   0\n",
       "loan_servicing                    0\n",
       "num_deals_as_client               0\n",
       "num_deals_as_investor             0\n",
       "number_of_properties              0\n",
       "number_of_related_deals           0\n",
       "number_of_related_properties      0\n",
       "number_of_won_deals_as_client     0\n",
       "dtype: int64"
      ]
     },
     "execution_count": 4,
     "metadata": {},
     "output_type": "execute_result"
    }
   ],
   "source": [
    "accounts.isnull().sum()"
   ]
  },
  {
   "cell_type": "code",
   "execution_count": 5,
   "metadata": {
    "collapsed": false
   },
   "outputs": [
    {
     "data": {
      "text/plain": [
       "id          70350\n",
       "id_deals    70350\n",
       "id_accs     70350\n",
       "id_props    70350\n",
       "dtype: int64"
      ]
     },
     "execution_count": 5,
     "metadata": {},
     "output_type": "execute_result"
    }
   ],
   "source": [
    "account_properties.count()"
   ]
  },
  {
   "cell_type": "code",
   "execution_count": 6,
   "metadata": {
    "collapsed": false
   },
   "outputs": [
    {
     "data": {
      "text/plain": [
       "id          0\n",
       "id_deals    0\n",
       "id_accs     0\n",
       "id_props    0\n",
       "dtype: int64"
      ]
     },
     "execution_count": 6,
     "metadata": {},
     "output_type": "execute_result"
    }
   ],
   "source": [
    "account_properties.isnull().sum()"
   ]
  },
  {
   "cell_type": "code",
   "execution_count": 7,
   "metadata": {
    "collapsed": false
   },
   "outputs": [
    {
     "data": {
      "text/plain": [
       "id             25820\n",
       "createdbyid    25820\n",
       "id_deals       25820\n",
       "id_props       25820\n",
       "dtype: int64"
      ]
     },
     "execution_count": 7,
     "metadata": {},
     "output_type": "execute_result"
    }
   ],
   "source": [
    "deals.count()"
   ]
  },
  {
   "cell_type": "code",
   "execution_count": 8,
   "metadata": {
    "collapsed": false
   },
   "outputs": [
    {
     "data": {
      "text/plain": [
       "id             0\n",
       "createdbyid    0\n",
       "id_deals       0\n",
       "id_props       0\n",
       "dtype: int64"
      ]
     },
     "execution_count": 8,
     "metadata": {},
     "output_type": "execute_result"
    }
   ],
   "source": [
    "deals.isnull().sum()"
   ]
  },
  {
   "cell_type": "code",
   "execution_count": 9,
   "metadata": {
    "collapsed": false
   },
   "outputs": [
    {
     "data": {
      "text/plain": [
       "id_props                 18298\n",
       "building_status          10081\n",
       "building_tax_expenses     9555\n",
       "id_deals                 18298\n",
       "city                     18298\n",
       "class                    11350\n",
       "county                   18298\n",
       "sale_status              18105\n",
       "portfolio                18298\n",
       "market                   18297\n",
       "num_buildings            10748\n",
       "num_floors               13626\n",
       "num_parking_spaces        7830\n",
       "occupancy_rate           14246\n",
       "price_per_sq_ft          11861\n",
       "price_per_unit            5677\n",
       "property_type_1          17987\n",
       "region__c                18293\n",
       "sale_amount__c           11858\n",
       "sale_date__c             12205\n",
       "size_acres               13944\n",
       "size_sf                  16730\n",
       "size_units                8239\n",
       "year_built               16440\n",
       "dtype: int64"
      ]
     },
     "execution_count": 9,
     "metadata": {},
     "output_type": "execute_result"
    }
   ],
   "source": [
    "properties.count()"
   ]
  },
  {
   "cell_type": "code",
   "execution_count": 10,
   "metadata": {
    "collapsed": false
   },
   "outputs": [
    {
     "data": {
      "text/plain": [
       "id_props                     0\n",
       "building_status           8217\n",
       "building_tax_expenses     8743\n",
       "id_deals                     0\n",
       "city                         0\n",
       "class                     6948\n",
       "county                       0\n",
       "sale_status                193\n",
       "portfolio                    0\n",
       "market                       1\n",
       "num_buildings             7550\n",
       "num_floors                4672\n",
       "num_parking_spaces       10468\n",
       "occupancy_rate            4052\n",
       "price_per_sq_ft           6437\n",
       "price_per_unit           12621\n",
       "property_type_1            311\n",
       "region__c                    5\n",
       "sale_amount__c            6440\n",
       "sale_date__c              6093\n",
       "size_acres                4354\n",
       "size_sf                   1568\n",
       "size_units               10059\n",
       "year_built                1858\n",
       "dtype: int64"
      ]
     },
     "execution_count": 10,
     "metadata": {},
     "output_type": "execute_result"
    }
   ],
   "source": [
    "properties.isnull().sum()"
   ]
  },
  {
   "cell_type": "code",
   "execution_count": 11,
   "metadata": {
    "collapsed": false
   },
   "outputs": [
    {
     "data": {
      "text/plain": [
       "id_deals            26029\n",
       "id_accs             26029\n",
       "accounting_date     25516\n",
       "best_initial_bid    25028\n",
       "id_deals.1          26029\n",
       "closedate           26029\n",
       "date_closed         25525\n",
       "deal_type           26023\n",
       "deal_update_flag    26029\n",
       "debt_yield          13851\n",
       "fiscal              26029\n",
       "fiscalquarter       26029\n",
       "fiscalyear          26029\n",
       "platform            26023\n",
       "property_group      26027\n",
       "property_type       26027\n",
       "dtype: int64"
      ]
     },
     "execution_count": 11,
     "metadata": {},
     "output_type": "execute_result"
    }
   ],
   "source": [
    "opportunities.count()"
   ]
  },
  {
   "cell_type": "code",
   "execution_count": 12,
   "metadata": {
    "collapsed": false
   },
   "outputs": [
    {
     "data": {
      "text/plain": [
       "id_deals                0\n",
       "id_accs                 0\n",
       "accounting_date       513\n",
       "best_initial_bid     1001\n",
       "id_deals.1              0\n",
       "closedate               0\n",
       "date_closed           504\n",
       "deal_type               6\n",
       "deal_update_flag        0\n",
       "debt_yield          12178\n",
       "fiscal                  0\n",
       "fiscalquarter           0\n",
       "fiscalyear              0\n",
       "platform                6\n",
       "property_group          2\n",
       "property_type           2\n",
       "dtype: int64"
      ]
     },
     "execution_count": 12,
     "metadata": {},
     "output_type": "execute_result"
    }
   ],
   "source": [
    "opportunities.isnull().sum()"
   ]
  },
  {
   "cell_type": "code",
   "execution_count": 13,
   "metadata": {
    "collapsed": false
   },
   "outputs": [
    {
     "data": {
      "text/html": [
       "<div>\n",
       "<table border=\"1\" class=\"dataframe\">\n",
       "  <thead>\n",
       "    <tr style=\"text-align: right;\">\n",
       "      <th></th>\n",
       "      <th>id_deals</th>\n",
       "      <th>id_accs</th>\n",
       "      <th>accounting_date</th>\n",
       "      <th>best_initial_bid</th>\n",
       "      <th>id_deals.1</th>\n",
       "      <th>closedate</th>\n",
       "      <th>date_closed</th>\n",
       "      <th>deal_type</th>\n",
       "      <th>deal_update_flag</th>\n",
       "      <th>debt_yield</th>\n",
       "      <th>fiscal</th>\n",
       "      <th>fiscalquarter</th>\n",
       "      <th>fiscalyear</th>\n",
       "      <th>platform</th>\n",
       "      <th>property_group</th>\n",
       "      <th>property_type</th>\n",
       "    </tr>\n",
       "  </thead>\n",
       "  <tbody>\n",
       "    <tr>\n",
       "      <th>0</th>\n",
       "      <td>0062A00000moF1LQAU</td>\n",
       "      <td>0012A000023XvIOQA0</td>\n",
       "      <td>NaN</td>\n",
       "      <td>NaN</td>\n",
       "      <td>0062A00000moF1LQAU</td>\n",
       "      <td>8/12/2005</td>\n",
       "      <td>8/18/2005 0:00</td>\n",
       "      <td>Fixed-rate</td>\n",
       "      <td>True</td>\n",
       "      <td>NaN</td>\n",
       "      <td>2005 3</td>\n",
       "      <td>3</td>\n",
       "      <td>2005</td>\n",
       "      <td>Debt</td>\n",
       "      <td>Healthcare</td>\n",
       "      <td>Healthcare</td>\n",
       "    </tr>\n",
       "    <tr>\n",
       "      <th>1</th>\n",
       "      <td>0062A00000moF9LQAU</td>\n",
       "      <td>0012A000023YFe1QAG</td>\n",
       "      <td>NaN</td>\n",
       "      <td>NaN</td>\n",
       "      <td>0062A00000moF9LQAU</td>\n",
       "      <td>2/6/2012</td>\n",
       "      <td>6/27/2012 12:00</td>\n",
       "      <td>Fixed-rate</td>\n",
       "      <td>True</td>\n",
       "      <td>NaN</td>\n",
       "      <td>2012 1</td>\n",
       "      <td>1</td>\n",
       "      <td>2012</td>\n",
       "      <td>Debt</td>\n",
       "      <td>Healthcare</td>\n",
       "      <td>Biotech</td>\n",
       "    </tr>\n",
       "    <tr>\n",
       "      <th>2</th>\n",
       "      <td>0062A00000moGodQAE</td>\n",
       "      <td>0012A000023YEDcQAO</td>\n",
       "      <td>8/12/2004</td>\n",
       "      <td>NaN</td>\n",
       "      <td>0062A00000moGodQAE</td>\n",
       "      <td>11/24/2003</td>\n",
       "      <td>8/11/2004 0:00</td>\n",
       "      <td>Construction Loan</td>\n",
       "      <td>True</td>\n",
       "      <td>NaN</td>\n",
       "      <td>2003 4</td>\n",
       "      <td>4</td>\n",
       "      <td>2003</td>\n",
       "      <td>Debt</td>\n",
       "      <td>Healthcare</td>\n",
       "      <td>Biotech</td>\n",
       "    </tr>\n",
       "    <tr>\n",
       "      <th>3</th>\n",
       "      <td>0062A00000moBTHQA2</td>\n",
       "      <td>0012A000023YA3nQAG</td>\n",
       "      <td>NaN</td>\n",
       "      <td>NaN</td>\n",
       "      <td>0062A00000moBTHQA2</td>\n",
       "      <td>2/10/2006</td>\n",
       "      <td>4/19/2006 0:00</td>\n",
       "      <td>Fixed-rate</td>\n",
       "      <td>True</td>\n",
       "      <td>NaN</td>\n",
       "      <td>2006 1</td>\n",
       "      <td>1</td>\n",
       "      <td>2006</td>\n",
       "      <td>Debt</td>\n",
       "      <td>Healthcare</td>\n",
       "      <td>Healthcare</td>\n",
       "    </tr>\n",
       "    <tr>\n",
       "      <th>4</th>\n",
       "      <td>0062A00000mo8OjQAI</td>\n",
       "      <td>0012A000023XpRUQA0</td>\n",
       "      <td>NaN</td>\n",
       "      <td>NaN</td>\n",
       "      <td>0062A00000mo8OjQAI</td>\n",
       "      <td>7/13/2006</td>\n",
       "      <td>11/16/2006 0:00</td>\n",
       "      <td>Fixed-rate</td>\n",
       "      <td>True</td>\n",
       "      <td>NaN</td>\n",
       "      <td>2006 3</td>\n",
       "      <td>3</td>\n",
       "      <td>2006</td>\n",
       "      <td>Debt</td>\n",
       "      <td>Healthcare</td>\n",
       "      <td>Healthcare</td>\n",
       "    </tr>\n",
       "  </tbody>\n",
       "</table>\n",
       "</div>"
      ],
      "text/plain": [
       "             id_deals             id_accs accounting_date  best_initial_bid  \\\n",
       "0  0062A00000moF1LQAU  0012A000023XvIOQA0             NaN               NaN   \n",
       "1  0062A00000moF9LQAU  0012A000023YFe1QAG             NaN               NaN   \n",
       "2  0062A00000moGodQAE  0012A000023YEDcQAO       8/12/2004               NaN   \n",
       "3  0062A00000moBTHQA2  0012A000023YA3nQAG             NaN               NaN   \n",
       "4  0062A00000mo8OjQAI  0012A000023XpRUQA0             NaN               NaN   \n",
       "\n",
       "           id_deals.1   closedate      date_closed          deal_type  \\\n",
       "0  0062A00000moF1LQAU   8/12/2005   8/18/2005 0:00         Fixed-rate   \n",
       "1  0062A00000moF9LQAU    2/6/2012  6/27/2012 12:00         Fixed-rate   \n",
       "2  0062A00000moGodQAE  11/24/2003   8/11/2004 0:00  Construction Loan   \n",
       "3  0062A00000moBTHQA2   2/10/2006   4/19/2006 0:00         Fixed-rate   \n",
       "4  0062A00000mo8OjQAI   7/13/2006  11/16/2006 0:00         Fixed-rate   \n",
       "\n",
       "  deal_update_flag  debt_yield  fiscal  fiscalquarter  fiscalyear platform  \\\n",
       "0             True         NaN  2005 3              3        2005     Debt   \n",
       "1             True         NaN  2012 1              1        2012     Debt   \n",
       "2             True         NaN  2003 4              4        2003     Debt   \n",
       "3             True         NaN  2006 1              1        2006     Debt   \n",
       "4             True         NaN  2006 3              3        2006     Debt   \n",
       "\n",
       "  property_group property_type  \n",
       "0     Healthcare    Healthcare  \n",
       "1     Healthcare       Biotech  \n",
       "2     Healthcare       Biotech  \n",
       "3     Healthcare    Healthcare  \n",
       "4     Healthcare    Healthcare  "
      ]
     },
     "execution_count": 13,
     "metadata": {},
     "output_type": "execute_result"
    }
   ],
   "source": [
    "opportunities.head()"
   ]
  },
  {
   "cell_type": "code",
   "execution_count": 14,
   "metadata": {
    "collapsed": false
   },
   "outputs": [
    {
     "data": {
      "text/plain": [
       "id_accs                          object:dense\n",
       "active_deals                      int64:dense\n",
       "activity_count                    int64:dense\n",
       "buyer_book                         bool:dense\n",
       "servicing_contract                 bool:dense\n",
       "investor_type                    object:dense\n",
       "cmbs                               bool:dense\n",
       "consultant                         bool:dense\n",
       "correspondent                      bool:dense\n",
       "foreign                            bool:dense\n",
       "master_servicer                    bool:dense\n",
       "lender_book                        bool:dense\n",
       "loan_sales_book                    bool:dense\n",
       "loan_servicing                     bool:dense\n",
       "num_deals_as_client               int64:dense\n",
       "num_deals_as_investor             int64:dense\n",
       "number_of_properties              int64:dense\n",
       "number_of_related_deals           int64:dense\n",
       "number_of_related_properties      int64:dense\n",
       "number_of_won_deals_as_client     int64:dense\n",
       "dtype: object"
      ]
     },
     "execution_count": 14,
     "metadata": {},
     "output_type": "execute_result"
    }
   ],
   "source": [
    "accounts.ftypes"
   ]
  },
  {
   "cell_type": "code",
   "execution_count": 15,
   "metadata": {
    "collapsed": false
   },
   "outputs": [],
   "source": [
    "investor_type= accounts.investor_type.unique()\n",
    "investor_type_mapping = {investor_type[row]:row for row in range(len(investor_type))}"
   ]
  },
  {
   "cell_type": "code",
   "execution_count": 16,
   "metadata": {
    "collapsed": false
   },
   "outputs": [],
   "source": [
    "accounts.investor_type=accounts.investor_type.apply(lambda x :investor_type_mapping[x])"
   ]
  },
  {
   "cell_type": "code",
   "execution_count": 17,
   "metadata": {
    "collapsed": false
   },
   "outputs": [
    {
     "data": {
      "text/html": [
       "<div>\n",
       "<table border=\"1\" class=\"dataframe\">\n",
       "  <thead>\n",
       "    <tr style=\"text-align: right;\">\n",
       "      <th></th>\n",
       "      <th>id_accs</th>\n",
       "      <th>active_deals</th>\n",
       "      <th>activity_count</th>\n",
       "      <th>buyer_book</th>\n",
       "      <th>servicing_contract</th>\n",
       "      <th>investor_type</th>\n",
       "      <th>cmbs</th>\n",
       "      <th>consultant</th>\n",
       "      <th>correspondent</th>\n",
       "      <th>foreign</th>\n",
       "      <th>master_servicer</th>\n",
       "      <th>lender_book</th>\n",
       "      <th>loan_sales_book</th>\n",
       "      <th>loan_servicing</th>\n",
       "      <th>num_deals_as_client</th>\n",
       "      <th>num_deals_as_investor</th>\n",
       "      <th>number_of_properties</th>\n",
       "      <th>number_of_related_deals</th>\n",
       "      <th>number_of_related_properties</th>\n",
       "      <th>number_of_won_deals_as_client</th>\n",
       "    </tr>\n",
       "  </thead>\n",
       "  <tbody>\n",
       "    <tr>\n",
       "      <th>0</th>\n",
       "      <td>0012A000023XlCCQA0</td>\n",
       "      <td>1</td>\n",
       "      <td>2367</td>\n",
       "      <td>True</td>\n",
       "      <td>False</td>\n",
       "      <td>0</td>\n",
       "      <td>False</td>\n",
       "      <td>False</td>\n",
       "      <td>False</td>\n",
       "      <td>False</td>\n",
       "      <td>False</td>\n",
       "      <td>False</td>\n",
       "      <td>False</td>\n",
       "      <td>False</td>\n",
       "      <td>0</td>\n",
       "      <td>1</td>\n",
       "      <td>1</td>\n",
       "      <td>2</td>\n",
       "      <td>1</td>\n",
       "      <td>0</td>\n",
       "    </tr>\n",
       "    <tr>\n",
       "      <th>1</th>\n",
       "      <td>0012A000023XmOxQAK</td>\n",
       "      <td>9</td>\n",
       "      <td>7974</td>\n",
       "      <td>True</td>\n",
       "      <td>False</td>\n",
       "      <td>1</td>\n",
       "      <td>False</td>\n",
       "      <td>False</td>\n",
       "      <td>False</td>\n",
       "      <td>False</td>\n",
       "      <td>False</td>\n",
       "      <td>True</td>\n",
       "      <td>True</td>\n",
       "      <td>False</td>\n",
       "      <td>7</td>\n",
       "      <td>2</td>\n",
       "      <td>77</td>\n",
       "      <td>18</td>\n",
       "      <td>85</td>\n",
       "      <td>7</td>\n",
       "    </tr>\n",
       "    <tr>\n",
       "      <th>2</th>\n",
       "      <td>0012A000023YLqwQAG</td>\n",
       "      <td>891</td>\n",
       "      <td>50161</td>\n",
       "      <td>True</td>\n",
       "      <td>True</td>\n",
       "      <td>2</td>\n",
       "      <td>False</td>\n",
       "      <td>False</td>\n",
       "      <td>False</td>\n",
       "      <td>False</td>\n",
       "      <td>False</td>\n",
       "      <td>True</td>\n",
       "      <td>True</td>\n",
       "      <td>False</td>\n",
       "      <td>40</td>\n",
       "      <td>851</td>\n",
       "      <td>693</td>\n",
       "      <td>996</td>\n",
       "      <td>1167</td>\n",
       "      <td>37</td>\n",
       "    </tr>\n",
       "    <tr>\n",
       "      <th>3</th>\n",
       "      <td>0012A000023XlNjQAK</td>\n",
       "      <td>34</td>\n",
       "      <td>14631</td>\n",
       "      <td>True</td>\n",
       "      <td>False</td>\n",
       "      <td>3</td>\n",
       "      <td>True</td>\n",
       "      <td>False</td>\n",
       "      <td>False</td>\n",
       "      <td>True</td>\n",
       "      <td>False</td>\n",
       "      <td>True</td>\n",
       "      <td>True</td>\n",
       "      <td>False</td>\n",
       "      <td>0</td>\n",
       "      <td>34</td>\n",
       "      <td>0</td>\n",
       "      <td>45</td>\n",
       "      <td>14</td>\n",
       "      <td>0</td>\n",
       "    </tr>\n",
       "    <tr>\n",
       "      <th>4</th>\n",
       "      <td>0012A000023YBFRQA4</td>\n",
       "      <td>283</td>\n",
       "      <td>194195</td>\n",
       "      <td>True</td>\n",
       "      <td>False</td>\n",
       "      <td>4</td>\n",
       "      <td>False</td>\n",
       "      <td>False</td>\n",
       "      <td>False</td>\n",
       "      <td>False</td>\n",
       "      <td>False</td>\n",
       "      <td>True</td>\n",
       "      <td>True</td>\n",
       "      <td>False</td>\n",
       "      <td>63</td>\n",
       "      <td>220</td>\n",
       "      <td>393</td>\n",
       "      <td>383</td>\n",
       "      <td>591</td>\n",
       "      <td>46</td>\n",
       "    </tr>\n",
       "    <tr>\n",
       "      <th>5</th>\n",
       "      <td>0012A000023XlQFQA0</td>\n",
       "      <td>39</td>\n",
       "      <td>23659</td>\n",
       "      <td>True</td>\n",
       "      <td>False</td>\n",
       "      <td>5</td>\n",
       "      <td>False</td>\n",
       "      <td>False</td>\n",
       "      <td>False</td>\n",
       "      <td>False</td>\n",
       "      <td>False</td>\n",
       "      <td>False</td>\n",
       "      <td>True</td>\n",
       "      <td>False</td>\n",
       "      <td>35</td>\n",
       "      <td>4</td>\n",
       "      <td>57</td>\n",
       "      <td>64</td>\n",
       "      <td>58</td>\n",
       "      <td>32</td>\n",
       "    </tr>\n",
       "    <tr>\n",
       "      <th>6</th>\n",
       "      <td>0012A000023XlWaQAK</td>\n",
       "      <td>261</td>\n",
       "      <td>127948</td>\n",
       "      <td>True</td>\n",
       "      <td>False</td>\n",
       "      <td>4</td>\n",
       "      <td>False</td>\n",
       "      <td>False</td>\n",
       "      <td>False</td>\n",
       "      <td>False</td>\n",
       "      <td>False</td>\n",
       "      <td>True</td>\n",
       "      <td>True</td>\n",
       "      <td>False</td>\n",
       "      <td>40</td>\n",
       "      <td>221</td>\n",
       "      <td>138</td>\n",
       "      <td>283</td>\n",
       "      <td>276</td>\n",
       "      <td>30</td>\n",
       "    </tr>\n",
       "    <tr>\n",
       "      <th>7</th>\n",
       "      <td>0012A000029wI3eQAE</td>\n",
       "      <td>14</td>\n",
       "      <td>23727</td>\n",
       "      <td>True</td>\n",
       "      <td>False</td>\n",
       "      <td>0</td>\n",
       "      <td>False</td>\n",
       "      <td>False</td>\n",
       "      <td>False</td>\n",
       "      <td>False</td>\n",
       "      <td>False</td>\n",
       "      <td>True</td>\n",
       "      <td>True</td>\n",
       "      <td>False</td>\n",
       "      <td>9</td>\n",
       "      <td>5</td>\n",
       "      <td>64</td>\n",
       "      <td>40</td>\n",
       "      <td>71</td>\n",
       "      <td>7</td>\n",
       "    </tr>\n",
       "    <tr>\n",
       "      <th>8</th>\n",
       "      <td>0012A000023XmSVQA0</td>\n",
       "      <td>11</td>\n",
       "      <td>2405</td>\n",
       "      <td>True</td>\n",
       "      <td>False</td>\n",
       "      <td>0</td>\n",
       "      <td>False</td>\n",
       "      <td>False</td>\n",
       "      <td>False</td>\n",
       "      <td>False</td>\n",
       "      <td>False</td>\n",
       "      <td>False</td>\n",
       "      <td>False</td>\n",
       "      <td>False</td>\n",
       "      <td>10</td>\n",
       "      <td>1</td>\n",
       "      <td>2</td>\n",
       "      <td>16</td>\n",
       "      <td>2</td>\n",
       "      <td>10</td>\n",
       "    </tr>\n",
       "    <tr>\n",
       "      <th>9</th>\n",
       "      <td>0012A00002HqXOHQA3</td>\n",
       "      <td>372</td>\n",
       "      <td>5954</td>\n",
       "      <td>True</td>\n",
       "      <td>True</td>\n",
       "      <td>3</td>\n",
       "      <td>True</td>\n",
       "      <td>False</td>\n",
       "      <td>False</td>\n",
       "      <td>False</td>\n",
       "      <td>False</td>\n",
       "      <td>True</td>\n",
       "      <td>True</td>\n",
       "      <td>False</td>\n",
       "      <td>2</td>\n",
       "      <td>370</td>\n",
       "      <td>0</td>\n",
       "      <td>0</td>\n",
       "      <td>164</td>\n",
       "      <td>1</td>\n",
       "    </tr>\n",
       "  </tbody>\n",
       "</table>\n",
       "</div>"
      ],
      "text/plain": [
       "              id_accs  active_deals  activity_count buyer_book  \\\n",
       "0  0012A000023XlCCQA0             1            2367       True   \n",
       "1  0012A000023XmOxQAK             9            7974       True   \n",
       "2  0012A000023YLqwQAG           891           50161       True   \n",
       "3  0012A000023XlNjQAK            34           14631       True   \n",
       "4  0012A000023YBFRQA4           283          194195       True   \n",
       "5  0012A000023XlQFQA0            39           23659       True   \n",
       "6  0012A000023XlWaQAK           261          127948       True   \n",
       "7  0012A000029wI3eQAE            14           23727       True   \n",
       "8  0012A000023XmSVQA0            11            2405       True   \n",
       "9  0012A00002HqXOHQA3           372            5954       True   \n",
       "\n",
       "  servicing_contract  investor_type   cmbs consultant correspondent foreign  \\\n",
       "0              False              0  False      False         False   False   \n",
       "1              False              1  False      False         False   False   \n",
       "2               True              2  False      False         False   False   \n",
       "3              False              3   True      False         False    True   \n",
       "4              False              4  False      False         False   False   \n",
       "5              False              5  False      False         False   False   \n",
       "6              False              4  False      False         False   False   \n",
       "7              False              0  False      False         False   False   \n",
       "8              False              0  False      False         False   False   \n",
       "9               True              3   True      False         False   False   \n",
       "\n",
       "  master_servicer lender_book loan_sales_book loan_servicing  \\\n",
       "0           False       False           False          False   \n",
       "1           False        True            True          False   \n",
       "2           False        True            True          False   \n",
       "3           False        True            True          False   \n",
       "4           False        True            True          False   \n",
       "5           False       False            True          False   \n",
       "6           False        True            True          False   \n",
       "7           False        True            True          False   \n",
       "8           False       False           False          False   \n",
       "9           False        True            True          False   \n",
       "\n",
       "   num_deals_as_client  num_deals_as_investor  number_of_properties  \\\n",
       "0                    0                      1                     1   \n",
       "1                    7                      2                    77   \n",
       "2                   40                    851                   693   \n",
       "3                    0                     34                     0   \n",
       "4                   63                    220                   393   \n",
       "5                   35                      4                    57   \n",
       "6                   40                    221                   138   \n",
       "7                    9                      5                    64   \n",
       "8                   10                      1                     2   \n",
       "9                    2                    370                     0   \n",
       "\n",
       "   number_of_related_deals  number_of_related_properties  \\\n",
       "0                        2                             1   \n",
       "1                       18                            85   \n",
       "2                      996                          1167   \n",
       "3                       45                            14   \n",
       "4                      383                           591   \n",
       "5                       64                            58   \n",
       "6                      283                           276   \n",
       "7                       40                            71   \n",
       "8                       16                             2   \n",
       "9                        0                           164   \n",
       "\n",
       "   number_of_won_deals_as_client  \n",
       "0                              0  \n",
       "1                              7  \n",
       "2                             37  \n",
       "3                              0  \n",
       "4                             46  \n",
       "5                             32  \n",
       "6                             30  \n",
       "7                              7  \n",
       "8                             10  \n",
       "9                              1  "
      ]
     },
     "execution_count": 17,
     "metadata": {},
     "output_type": "execute_result"
    }
   ],
   "source": [
    "accounts.head(10)"
   ]
  },
  {
   "cell_type": "code",
   "execution_count": 18,
   "metadata": {
    "collapsed": false
   },
   "outputs": [
    {
     "data": {
      "text/plain": [
       "id          object:dense\n",
       "id_deals    object:dense\n",
       "id_accs     object:dense\n",
       "id_props    object:dense\n",
       "dtype: object"
      ]
     },
     "execution_count": 18,
     "metadata": {},
     "output_type": "execute_result"
    }
   ],
   "source": [
    "account_properties.ftypes"
   ]
  },
  {
   "cell_type": "code",
   "execution_count": 19,
   "metadata": {
    "collapsed": true
   },
   "outputs": [],
   "source": [
    "accounts_opportunities = pd.merge(accounts, opportunities, on='id_accs', how='inner')"
   ]
  },
  {
   "cell_type": "code",
   "execution_count": 20,
   "metadata": {
    "collapsed": false
   },
   "outputs": [
    {
     "data": {
      "text/html": [
       "<div>\n",
       "<table border=\"1\" class=\"dataframe\">\n",
       "  <thead>\n",
       "    <tr style=\"text-align: right;\">\n",
       "      <th></th>\n",
       "      <th>id_accs</th>\n",
       "      <th>active_deals</th>\n",
       "      <th>activity_count</th>\n",
       "      <th>buyer_book</th>\n",
       "      <th>servicing_contract</th>\n",
       "      <th>investor_type</th>\n",
       "      <th>cmbs</th>\n",
       "      <th>consultant</th>\n",
       "      <th>correspondent</th>\n",
       "      <th>foreign</th>\n",
       "      <th>...</th>\n",
       "      <th>date_closed</th>\n",
       "      <th>deal_type</th>\n",
       "      <th>deal_update_flag</th>\n",
       "      <th>debt_yield</th>\n",
       "      <th>fiscal</th>\n",
       "      <th>fiscalquarter</th>\n",
       "      <th>fiscalyear</th>\n",
       "      <th>platform</th>\n",
       "      <th>property_group</th>\n",
       "      <th>property_type</th>\n",
       "    </tr>\n",
       "  </thead>\n",
       "  <tbody>\n",
       "    <tr>\n",
       "      <th>0</th>\n",
       "      <td>0012A000023XmOxQAK</td>\n",
       "      <td>9</td>\n",
       "      <td>7974</td>\n",
       "      <td>True</td>\n",
       "      <td>False</td>\n",
       "      <td>1</td>\n",
       "      <td>False</td>\n",
       "      <td>False</td>\n",
       "      <td>False</td>\n",
       "      <td>False</td>\n",
       "      <td>...</td>\n",
       "      <td>7/31/2014 0:00</td>\n",
       "      <td>Floating-Rate</td>\n",
       "      <td>True</td>\n",
       "      <td>8.70</td>\n",
       "      <td>2014 2</td>\n",
       "      <td>2</td>\n",
       "      <td>2014</td>\n",
       "      <td>Debt</td>\n",
       "      <td>Hotel-Lodging</td>\n",
       "      <td>Hotel/Lodging</td>\n",
       "    </tr>\n",
       "    <tr>\n",
       "      <th>1</th>\n",
       "      <td>0012A000023XmOxQAK</td>\n",
       "      <td>9</td>\n",
       "      <td>7974</td>\n",
       "      <td>True</td>\n",
       "      <td>False</td>\n",
       "      <td>1</td>\n",
       "      <td>False</td>\n",
       "      <td>False</td>\n",
       "      <td>False</td>\n",
       "      <td>False</td>\n",
       "      <td>...</td>\n",
       "      <td>5/24/2017 0:00</td>\n",
       "      <td>Floating-Rate</td>\n",
       "      <td>True</td>\n",
       "      <td>0.00</td>\n",
       "      <td>2016 4</td>\n",
       "      <td>4</td>\n",
       "      <td>2016</td>\n",
       "      <td>Debt</td>\n",
       "      <td>Hotel-Lodging</td>\n",
       "      <td>Hotel/Lodging</td>\n",
       "    </tr>\n",
       "    <tr>\n",
       "      <th>2</th>\n",
       "      <td>0012A000023XmOxQAK</td>\n",
       "      <td>9</td>\n",
       "      <td>7974</td>\n",
       "      <td>True</td>\n",
       "      <td>False</td>\n",
       "      <td>1</td>\n",
       "      <td>False</td>\n",
       "      <td>False</td>\n",
       "      <td>False</td>\n",
       "      <td>False</td>\n",
       "      <td>...</td>\n",
       "      <td>4/17/2015 0:00</td>\n",
       "      <td>Floating-Rate</td>\n",
       "      <td>True</td>\n",
       "      <td>9.50</td>\n",
       "      <td>2014 4</td>\n",
       "      <td>4</td>\n",
       "      <td>2014</td>\n",
       "      <td>Debt</td>\n",
       "      <td>Hotel-Lodging</td>\n",
       "      <td>Hotel/Lodging</td>\n",
       "    </tr>\n",
       "    <tr>\n",
       "      <th>3</th>\n",
       "      <td>0012A000023XmOxQAK</td>\n",
       "      <td>9</td>\n",
       "      <td>7974</td>\n",
       "      <td>True</td>\n",
       "      <td>False</td>\n",
       "      <td>1</td>\n",
       "      <td>False</td>\n",
       "      <td>False</td>\n",
       "      <td>False</td>\n",
       "      <td>False</td>\n",
       "      <td>...</td>\n",
       "      <td>3/26/2015 0:00</td>\n",
       "      <td>Floating-Rate</td>\n",
       "      <td>True</td>\n",
       "      <td>0.00</td>\n",
       "      <td>2014 4</td>\n",
       "      <td>4</td>\n",
       "      <td>2014</td>\n",
       "      <td>Debt</td>\n",
       "      <td>Hotel-Lodging</td>\n",
       "      <td>Hotel/Lodging</td>\n",
       "    </tr>\n",
       "    <tr>\n",
       "      <th>4</th>\n",
       "      <td>0012A000023XmOxQAK</td>\n",
       "      <td>9</td>\n",
       "      <td>7974</td>\n",
       "      <td>True</td>\n",
       "      <td>False</td>\n",
       "      <td>1</td>\n",
       "      <td>False</td>\n",
       "      <td>False</td>\n",
       "      <td>False</td>\n",
       "      <td>False</td>\n",
       "      <td>...</td>\n",
       "      <td>5/1/2014 0:00</td>\n",
       "      <td>Fixed-rate</td>\n",
       "      <td>True</td>\n",
       "      <td>9.25</td>\n",
       "      <td>2014 1</td>\n",
       "      <td>1</td>\n",
       "      <td>2014</td>\n",
       "      <td>Debt</td>\n",
       "      <td>Hotel-Lodging</td>\n",
       "      <td>Hotel/Lodging</td>\n",
       "    </tr>\n",
       "  </tbody>\n",
       "</table>\n",
       "<p>5 rows × 35 columns</p>\n",
       "</div>"
      ],
      "text/plain": [
       "              id_accs  active_deals  activity_count buyer_book  \\\n",
       "0  0012A000023XmOxQAK             9            7974       True   \n",
       "1  0012A000023XmOxQAK             9            7974       True   \n",
       "2  0012A000023XmOxQAK             9            7974       True   \n",
       "3  0012A000023XmOxQAK             9            7974       True   \n",
       "4  0012A000023XmOxQAK             9            7974       True   \n",
       "\n",
       "  servicing_contract  investor_type   cmbs consultant correspondent foreign  \\\n",
       "0              False              1  False      False         False   False   \n",
       "1              False              1  False      False         False   False   \n",
       "2              False              1  False      False         False   False   \n",
       "3              False              1  False      False         False   False   \n",
       "4              False              1  False      False         False   False   \n",
       "\n",
       "       ...           date_closed      deal_type deal_update_flag debt_yield  \\\n",
       "0      ...        7/31/2014 0:00  Floating-Rate             True       8.70   \n",
       "1      ...        5/24/2017 0:00  Floating-Rate             True       0.00   \n",
       "2      ...        4/17/2015 0:00  Floating-Rate             True       9.50   \n",
       "3      ...        3/26/2015 0:00  Floating-Rate             True       0.00   \n",
       "4      ...         5/1/2014 0:00     Fixed-rate             True       9.25   \n",
       "\n",
       "   fiscal  fiscalquarter  fiscalyear  platform  property_group  property_type  \n",
       "0  2014 2              2        2014      Debt   Hotel-Lodging  Hotel/Lodging  \n",
       "1  2016 4              4        2016      Debt   Hotel-Lodging  Hotel/Lodging  \n",
       "2  2014 4              4        2014      Debt   Hotel-Lodging  Hotel/Lodging  \n",
       "3  2014 4              4        2014      Debt   Hotel-Lodging  Hotel/Lodging  \n",
       "4  2014 1              1        2014      Debt   Hotel-Lodging  Hotel/Lodging  \n",
       "\n",
       "[5 rows x 35 columns]"
      ]
     },
     "execution_count": 20,
     "metadata": {},
     "output_type": "execute_result"
    }
   ],
   "source": [
    "accounts_opportunities.head()"
   ]
  },
  {
   "cell_type": "code",
   "execution_count": 21,
   "metadata": {
    "collapsed": false
   },
   "outputs": [
    {
     "data": {
      "text/plain": [
       "{'Apartments': 3789,\n",
       " 'Biotech': 16,\n",
       " 'Data Center': 28,\n",
       " 'Day Care': 4,\n",
       " 'Healthcare': 94,\n",
       " 'Hotel/Lodging': 493,\n",
       " 'Industrial': 834,\n",
       " 'Land': 217,\n",
       " 'Manufactured Home Communities': 6,\n",
       " 'Mixed Use': 230,\n",
       " 'Office': 3102,\n",
       " 'Parking Garage': 14,\n",
       " 'Promissory Note': 20,\n",
       " 'Recreational/Speciality': 11,\n",
       " 'Retail': 1900,\n",
       " 'SFR - Attached': 112,\n",
       " 'Self Storage': 91,\n",
       " 'Seniors Housing': 76,\n",
       " 'Unassigned': 115}"
      ]
     },
     "execution_count": 21,
     "metadata": {},
     "output_type": "execute_result"
    }
   ],
   "source": [
    "{key:len(value) for key,value in accounts_opportunities.groupby('property_type')}"
   ]
  },
  {
   "cell_type": "code",
   "execution_count": 25,
   "metadata": {
    "collapsed": false
   },
   "outputs": [
    {
     "name": "stdout",
     "output_type": "stream",
     "text": [
      "Hello bhatia\n"
     ]
    }
   ],
   "source": [
    "print(\"Hello bhatia\")"
   ]
  },
  {
   "cell_type": "code",
   "execution_count": null,
   "metadata": {
    "collapsed": true
   },
   "outputs": [],
   "source": []
  }
 ],
 "metadata": {
  "anaconda-cloud": {},
  "kernelspec": {
   "display_name": "Python [default]",
   "language": "python",
   "name": "python3"
  },
  "language_info": {
   "codemirror_mode": {
    "name": "ipython",
    "version": 3
   },
   "file_extension": ".py",
   "mimetype": "text/x-python",
   "name": "python",
   "nbconvert_exporter": "python",
   "pygments_lexer": "ipython3",
   "version": "3.5.2"
  }
 },
 "nbformat": 4,
 "nbformat_minor": 1
}
