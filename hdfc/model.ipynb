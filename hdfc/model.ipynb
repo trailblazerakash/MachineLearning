{
  "nbformat": 4,
  "nbformat_minor": 0,
  "metadata": {
    "colab": {
      "name": "model.ipynb",
      "provenance": [],
      "collapsed_sections": [],
      "include_colab_link": true
    },
    "kernelspec": {
      "name": "python3",
      "display_name": "Python 3"
    },
    "accelerator": "GPU"
  },
  "cells": [
    {
      "cell_type": "markdown",
      "metadata": {
        "id": "view-in-github",
        "colab_type": "text"
      },
      "source": [
        "<a href=\"https://colab.research.google.com/github/trailblazerakash/MachineLearning/blob/master/hdfc/model.ipynb\" target=\"_parent\"><img src=\"https://colab.research.google.com/assets/colab-badge.svg\" alt=\"Open In Colab\"/></a>"
      ]
    },
    {
      "cell_type": "code",
      "metadata": {
        "id": "tF49Bg-2tqON",
        "colab_type": "code",
        "colab": {}
      },
      "source": [
        ""
      ],
      "execution_count": 0,
      "outputs": []
    },
    {
      "cell_type": "code",
      "metadata": {
        "id": "5Z3nhEVnt7t4",
        "colab_type": "code",
        "outputId": "96e684fe-6f59-407c-e507-4781a4ef0b30",
        "colab": {
          "base_uri": "https://localhost:8080/",
          "height": 34
        }
      },
      "source": [
        "from google.colab import drive\n",
        "drive.mount('/content/drive')"
      ],
      "execution_count": 28,
      "outputs": [
        {
          "output_type": "stream",
          "text": [
            "Drive already mounted at /content/drive; to attempt to forcibly remount, call drive.mount(\"/content/drive\", force_remount=True).\n"
          ],
          "name": "stdout"
        }
      ]
    },
    {
      "cell_type": "code",
      "metadata": {
        "id": "NB5Qt5Ehy4YH",
        "colab_type": "code",
        "colab": {}
      },
      "source": [
        "import pandas as pd\n",
        "import numpy as np\n",
        "%matplotlib inline\n",
        "\n",
        "from itertools import chain\n",
        "from sklearn import preprocessing, ensemble\n",
        "from sklearn.preprocessing import OneHotEncoder\n",
        "from sklearn.model_selection import train_test_split\n",
        "\n",
        "\n"
      ],
      "execution_count": 0,
      "outputs": []
    },
    {
      "cell_type": "code",
      "metadata": {
        "id": "WMGXhBQLt8hO",
        "colab_type": "code",
        "outputId": "74b4dc2f-c564-4dc2-f3a3-8375884c24f5",
        "colab": {
          "base_uri": "https://localhost:8080/",
          "height": 106
        }
      },
      "source": [
        "\n",
        "train_df = pd.read_csv('/content/drive/My Drive/HDFC/d407ebe0db9a11e9/DataSet/Train.csv')\n",
        "test_df=pd.read_csv('/content/drive/My Drive/HDFC/d407ebe0db9a11e9/DataSet/Test.csv')\n"
      ],
      "execution_count": 30,
      "outputs": [
        {
          "output_type": "stream",
          "text": [
            "/usr/local/lib/python3.6/dist-packages/IPython/core/interactiveshell.py:2718: DtypeWarning: Columns (746,835) have mixed types. Specify dtype option on import or set low_memory=False.\n",
            "  interactivity=interactivity, compiler=compiler, result=result)\n",
            "/usr/local/lib/python3.6/dist-packages/IPython/core/interactiveshell.py:2718: DtypeWarning: Columns (700,731,740,752,761,789,811,820,829,841,850) have mixed types. Specify dtype option on import or set low_memory=False.\n",
            "  interactivity=interactivity, compiler=compiler, result=result)\n"
          ],
          "name": "stderr"
        }
      ]
    },
    {
      "cell_type": "code",
      "metadata": {
        "id": "rfBHFtk4u3mH",
        "colab_type": "code",
        "colab": {}
      },
      "source": [
        "df_dtypes = pd.DataFrame(train_df.dtypes,columns=['dtypes'])\n",
        "df_dtypes['first_value'] = train_df.loc[0].values\n"
      ],
      "execution_count": 0,
      "outputs": []
    },
    {
      "cell_type": "code",
      "metadata": {
        "id": "YhUiEVfkwu0E",
        "colab_type": "code",
        "colab": {}
      },
      "source": [
        "df_dtypes['Null_Count'] = train_df[train_df.columns].isnull().sum()\n",
        "   "
      ],
      "execution_count": 0,
      "outputs": []
    },
    {
      "cell_type": "code",
      "metadata": {
        "id": "BTIXyWBBzCdV",
        "colab_type": "code",
        "outputId": "70c11676-31b0-4a22-a669-f6f5a2166608",
        "colab": {
          "base_uri": "https://localhost:8080/",
          "height": 206
        }
      },
      "source": [
        "df_dtypes.head()"
      ],
      "execution_count": 33,
      "outputs": [
        {
          "output_type": "execute_result",
          "data": {
            "text/html": [
              "<div>\n",
              "<style scoped>\n",
              "    .dataframe tbody tr th:only-of-type {\n",
              "        vertical-align: middle;\n",
              "    }\n",
              "\n",
              "    .dataframe tbody tr th {\n",
              "        vertical-align: top;\n",
              "    }\n",
              "\n",
              "    .dataframe thead th {\n",
              "        text-align: right;\n",
              "    }\n",
              "</style>\n",
              "<table border=\"1\" class=\"dataframe\">\n",
              "  <thead>\n",
              "    <tr style=\"text-align: right;\">\n",
              "      <th></th>\n",
              "      <th>dtypes</th>\n",
              "      <th>first_value</th>\n",
              "      <th>Null_Count</th>\n",
              "    </tr>\n",
              "  </thead>\n",
              "  <tbody>\n",
              "    <tr>\n",
              "      <th>Col1</th>\n",
              "      <td>object</td>\n",
              "      <td>RIGHGSN</td>\n",
              "      <td>0</td>\n",
              "    </tr>\n",
              "    <tr>\n",
              "      <th>Col2</th>\n",
              "      <td>int64</td>\n",
              "      <td>1</td>\n",
              "      <td>0</td>\n",
              "    </tr>\n",
              "    <tr>\n",
              "      <th>Col3</th>\n",
              "      <td>float64</td>\n",
              "      <td>10867.1</td>\n",
              "      <td>0</td>\n",
              "    </tr>\n",
              "    <tr>\n",
              "      <th>Col4</th>\n",
              "      <td>float64</td>\n",
              "      <td>8648.34</td>\n",
              "      <td>0</td>\n",
              "    </tr>\n",
              "    <tr>\n",
              "      <th>Col5</th>\n",
              "      <td>float64</td>\n",
              "      <td>15766.2</td>\n",
              "      <td>0</td>\n",
              "    </tr>\n",
              "  </tbody>\n",
              "</table>\n",
              "</div>"
            ],
            "text/plain": [
              "       dtypes first_value  Null_Count\n",
              "Col1   object     RIGHGSN           0\n",
              "Col2    int64           1           0\n",
              "Col3  float64     10867.1           0\n",
              "Col4  float64     8648.34           0\n",
              "Col5  float64     15766.2           0"
            ]
          },
          "metadata": {
            "tags": []
          },
          "execution_count": 33
        }
      ]
    },
    {
      "cell_type": "code",
      "metadata": {
        "colab_type": "code",
        "id": "MPBlo9eHlHbI",
        "colab": {}
      },
      "source": [
        "df.isna().mean()"
      ],
      "execution_count": 0,
      "outputs": []
    },
    {
      "cell_type": "code",
      "metadata": {
        "id": "GmIdnHtoqCpP",
        "colab_type": "code",
        "colab": {}
      },
      "source": [
        "tdf = train_df.loc[:, train_df.isna().mean() < .25]\n",
        "test_df_itm=test_df.loc[:, test_df.isna().mean() < .25]"
      ],
      "execution_count": 0,
      "outputs": []
    },
    {
      "cell_type": "code",
      "metadata": {
        "id": "GhUryzEAqQ6w",
        "colab_type": "code",
        "outputId": "73371a97-9bac-48d5-8714-cc81b3303526",
        "colab": {
          "base_uri": "https://localhost:8080/",
          "height": 34
        }
      },
      "source": [
        "test_df.shape"
      ],
      "execution_count": 36,
      "outputs": [
        {
          "output_type": "execute_result",
          "data": {
            "text/plain": [
              "(20442, 2394)"
            ]
          },
          "metadata": {
            "tags": []
          },
          "execution_count": 36
        }
      ]
    },
    {
      "cell_type": "code",
      "metadata": {
        "id": "CfWNBgzYqSKR",
        "colab_type": "code",
        "colab": {}
      },
      "source": [
        ""
      ],
      "execution_count": 0,
      "outputs": []
    },
    {
      "cell_type": "code",
      "metadata": {
        "id": "VuY6FyjfqpRF",
        "colab_type": "code",
        "colab": {}
      },
      "source": [
        "#@title Default title text\n",
        "#NOT WORKING PROPERLY\n",
        "\n",
        "def get_redundant_pairs(df):\n",
        "    '''Get diagonal and lower triangular pairs of correlation matrix'''\n",
        "    pairs_to_drop = set()\n",
        "    cols = df.columns\n",
        "    for i in range(0, df.shape[1]):\n",
        "        for j in range(0, i+1):\n",
        "            pairs_to_drop.add((cols[i], cols[j]))\n",
        "    return pairs_to_drop\n",
        "\n",
        "def get_top_abs_correlations(df, n=5):\n",
        "    au_corr = df.corr().abs().unstack()\n",
        "    labels_to_drop = get_redundant_pairs(df)\n",
        "    au_corr = au_corr.drop(labels=labels_to_drop).sort_values(ascending=False)\n",
        "    return au_corr[0:n]\n"
      ],
      "execution_count": 0,
      "outputs": []
    },
    {
      "cell_type": "code",
      "metadata": {
        "id": "AOmWwpRD2UXy",
        "colab_type": "code",
        "colab": {}
      },
      "source": [
        "\n",
        "print(\"Top Absolute Correlations\")\n",
        "print(get_top_abs_correlations(tdf, 100))"
      ],
      "execution_count": 0,
      "outputs": []
    },
    {
      "cell_type": "code",
      "metadata": {
        "id": "gNWz6eZZ5t7A",
        "colab_type": "code",
        "colab": {}
      },
      "source": [
        "\n"
      ],
      "execution_count": 0,
      "outputs": []
    },
    {
      "cell_type": "code",
      "metadata": {
        "id": "sm9jgebM6tLr",
        "colab_type": "code",
        "colab": {}
      },
      "source": [
        "def get_columns_count(df):\n",
        "  dtype_df = df.dtypes.reset_index()\n",
        "  dtype_df.columns = [\"Count\", \"Column Type\"]\n",
        "  return dtype_df.groupby(\"Column Type\").aggregate('count').reset_index()"
      ],
      "execution_count": 0,
      "outputs": []
    },
    {
      "cell_type": "code",
      "metadata": {
        "id": "x8Y96Yk5jBw1",
        "colab_type": "code",
        "colab": {}
      },
      "source": [
        "get_columns_count(tdf)"
      ],
      "execution_count": 0,
      "outputs": []
    },
    {
      "cell_type": "code",
      "metadata": {
        "id": "WvRN7BXGi9DW",
        "colab_type": "code",
        "colab": {}
      },
      "source": [
        "get_columns_count(test_df)"
      ],
      "execution_count": 0,
      "outputs": []
    },
    {
      "cell_type": "code",
      "metadata": {
        "id": "mtvVoasLVB0r",
        "colab_type": "code",
        "colab": {}
      },
      "source": [
        "dtype_df = tdf.dtypes.reset_index()\n",
        "dtype_df.columns = [\"Count\", \"Column Type\"]\n",
        "dtype_df.groupby(\"Column Type\").aggregate('count').reset_index()\n"
      ],
      "execution_count": 0,
      "outputs": []
    },
    {
      "cell_type": "code",
      "metadata": {
        "id": "S9WKm2AKSbkk",
        "colab_type": "code",
        "colab": {}
      },
      "source": [
        "dtype_df.ix[:10,:]"
      ],
      "execution_count": 0,
      "outputs": []
    },
    {
      "cell_type": "code",
      "metadata": {
        "id": "jITRglgKbqHw",
        "colab_type": "code",
        "colab": {}
      },
      "source": [
        "unique_values_dict = {}\n",
        "for col in tdf.columns:\n",
        "    if col not in [\"Col1\",\"Col2\"]:\n",
        "        unique_value = str(np.sort(tdf[col].unique()).tolist())\n",
        "        tlist = unique_values_dict.get(unique_value, [])\n",
        "        tlist.append(col)\n",
        "        unique_values_dict[unique_value] = tlist[:]\n",
        "for unique_val, columns in unique_values_dict.items():\n",
        "    print(\"Columns containing the unique values : \",unique_val)\n",
        "    print(columns)\n",
        "    print(\"--------------------------------------------------\")"
      ],
      "execution_count": 0,
      "outputs": []
    },
    {
      "cell_type": "code",
      "metadata": {
        "id": "mwvASALFdqME",
        "colab_type": "code",
        "colab": {}
      },
      "source": [
        "correlation_threshold = 0.99 #\n",
        "train_integer = tdf.drop([\"Col1\",\"Col2\"],axis=1)\n",
        "cor = train_integer.corr()"
      ],
      "execution_count": 0,
      "outputs": []
    },
    {
      "cell_type": "code",
      "metadata": {
        "id": "kV0e0jeccFoH",
        "colab_type": "code",
        "outputId": "20294860-980a-433f-aa4d-189f1fbfd97b",
        "colab": {
          "base_uri": "https://localhost:8080/",
          "height": 1000
        }
      },
      "source": [
        "\n",
        "cor.loc[:,:] =  np.tril(cor, k=-1)\n",
        "cor = cor.stack()\n",
        "correlated = cor[cor > correlation_threshold].reset_index().loc[:,['level_0','level_1']]\n",
        "correlated = correlated.query('level_0 not in level_1')\n",
        "correlated_array =  correlated.groupby('level_0').agg(lambda x: set(chain(x.level_0,x.level_1))).values\n",
        "correlated_array"
      ],
      "execution_count": 38,
      "outputs": [
        {
          "output_type": "execute_result",
          "data": {
            "text/plain": [
              "array([[{'Col1038', 'Col946'}],\n",
              "       [{'Col1042', 'Col950'}],\n",
              "       [{'Col982', 'Col1074'}],\n",
              "       [{'Col1075', 'Col983'}],\n",
              "       [{'Col94', 'Col108'}],\n",
              "       [{'Col1080', 'Col988'}],\n",
              "       [{'Col1081', 'Col989'}],\n",
              "       [{'Col1088', 'Col996'}],\n",
              "       [{'Col1089', 'Col997'}],\n",
              "       [{'Col998', 'Col1090'}],\n",
              "       [{'Col1076', 'Col1168', 'Col984'}],\n",
              "       [{'Col993', 'Col1085', 'Col1177'}],\n",
              "       [{'Col1086', 'Col1178', 'Col994'}],\n",
              "       [{'Col1188', 'Col1096'}],\n",
              "       [{'Col1268', 'Col1084', 'Col992', 'Col1176'}],\n",
              "       [{'Col1196', 'Col1288', 'Col1104'}],\n",
              "       [{'Col121', 'Col129'}],\n",
              "       [{'Col1292', 'Col1200'}],\n",
              "       [{'Col123', 'Col131'}],\n",
              "       [{'Col1326', 'Col1006', 'Col1310'}],\n",
              "       [{'Col125', 'Col133'}],\n",
              "       [{'Col1334', 'Col1022'}],\n",
              "       [{'Col942', 'Col1344'}],\n",
              "       [{'Col962', 'Col1368', 'Col1352'}],\n",
              "       [{'Col136', 'Col137'}],\n",
              "       [{'Col1370', 'Col970'}],\n",
              "       [{'Col1376', 'Col978'}],\n",
              "       [{'Col1392', 'Col1302', 'Col1078', 'Col986'}],\n",
              "       [{'Col1304', 'Col1394'}],\n",
              "       [{'Col1098', 'Col1400', 'Col1416'}],\n",
              "       [{'Col1106', 'Col1418', 'Col1328'}],\n",
              "       [{'Col1424', 'Col1114'}],\n",
              "       [{'Col1428', 'Col1338'}],\n",
              "       [{'Col1432', 'Col1342'}],\n",
              "       [{'Col1434', 'Col1034'}],\n",
              "       [{'Col1054', 'Col1458', 'Col1442'}],\n",
              "       [{'Col1062', 'Col1460'}],\n",
              "       [{'Col1466', 'Col1070'}],\n",
              "       [{'Col1170', 'Col1482'}],\n",
              "       [{'Col1396', 'Col1306', 'Col1486'}],\n",
              "       [{'Col1308', 'Col1398', 'Col1488'}],\n",
              "       [{'Col1414', 'Col1504'}],\n",
              "       [{'Col1490', 'Col1506', 'Col1190'}],\n",
              "       [{'Col1198', 'Col1508'}],\n",
              "       [{'Col1514', 'Col1206'}],\n",
              "       [{'Col1520', 'Col1430'}],\n",
              "       [{'Col1524', 'Col1126'}],\n",
              "       [{'Col1146', 'Col1548', 'Col1532'}],\n",
              "       [{'Col1154', 'Col1550'}],\n",
              "       [{'Col1162', 'Col1556'}],\n",
              "       [{'Col1262', 'Col1572'}],\n",
              "       [{'Col1492', 'Col1582'}],\n",
              "       [{'Col1586', 'Col1406', 'Col1496'}],\n",
              "       [{'Col1410', 'Col1266', 'Col1174', 'Col1590', 'Col990', 'Col1320', 'Col1082', 'Col1500'}],\n",
              "       [{'Col1502', 'Col1592', 'Col1412', 'Col1322'}],\n",
              "       [{'Col1596', 'Col1282', 'Col1580'}],\n",
              "       [{'Col1290', 'Col1598'}],\n",
              "       [{'Col1510', 'Col1330', 'Col1600', 'Col1420'}],\n",
              "       [{'Col1421', 'Col1331', 'Col1601', 'Col1511'}],\n",
              "       [{'Col1604', 'Col1298'}],\n",
              "       [{'Col161', 'Col160'}],\n",
              "       [{'Col1218', 'Col1614'}],\n",
              "       [{'Col1238', 'Col1622', 'Col1638'}],\n",
              "       [{'Col1642', 'Col1462', 'Col1372', 'Col1552'}],\n",
              "       [{'Col1553', 'Col1643'}],\n",
              "       [{'Col1254', 'Col1646'}],\n",
              "       [{'Col163', 'Col165'}],\n",
              "       [{'Col1665', 'Col935'}],\n",
              "       [{'Col941', 'Col1671'}],\n",
              "       [{'Col947', 'Col1677'}],\n",
              "       [{'Col1679', 'Col949'}],\n",
              "       [{'Col1685', 'Col955'}],\n",
              "       [{'Col961', 'Col1691'}],\n",
              "       [{'Col1697', 'Col967'}],\n",
              "       [{'Col1698', 'Col968'}],\n",
              "       [{'Col1699', 'Col969'}],\n",
              "       [{'Col1701', 'Col971'}],\n",
              "       [{'Col1703', 'Col973'}],\n",
              "       [{'Col975', 'Col1705'}],\n",
              "       [{'Col1729', 'Col999'}],\n",
              "       [{'Col173', 'Col172'}],\n",
              "       [{'Col1731', 'Col1001'}],\n",
              "       [{'Col1735', 'Col1005'}],\n",
              "       [{'Col1011', 'Col1741'}],\n",
              "       [{'Col1743', 'Col1013'}],\n",
              "       [{'Col1745', 'Col1015'}],\n",
              "       [{'Col1027', 'Col1757'}],\n",
              "       [{'Col1032', 'Col1670', 'Col1762'}],\n",
              "       [{'Col1033', 'Col1763'}],\n",
              "       [{'Col1676', 'Col1768'}],\n",
              "       [{'Col1039', 'Col1769'}],\n",
              "       [{'Col948', 'Col1678', 'Col1040', 'Col1770'}],\n",
              "       [{'Col1771', 'Col1041'}],\n",
              "       [{'Col1772', 'Col1680'}],\n",
              "       [{'Col1773', 'Col1043', 'Col1681', 'Col951'}],\n",
              "       [{'Col1777', 'Col1047'}],\n",
              "       [{'Col1690', 'Col1052', 'Col1782'}],\n",
              "       [{'Col1053', 'Col1783'}],\n",
              "       [{'Col1789', 'Col1059'}],\n",
              "       [{'Col1790', 'Col1060'}],\n",
              "       [{'Col1791', 'Col1061'}],\n",
              "       [{'Col1793', 'Col1063'}],\n",
              "       [{'Col1065', 'Col1795'}],\n",
              "       [{'Col1804', 'Col1712'}],\n",
              "       [{'Col1805', 'Col1713'}],\n",
              "       [{'Col1715', 'Col985', 'Col1077', 'Col1807'}],\n",
              "       [{'Col1810', 'Col1718'}],\n",
              "       [{'Col1719', 'Col1811'}],\n",
              "       [{'Col1726', 'Col1818'}],\n",
              "       [{'Col1727', 'Col1819'}],\n",
              "       [{'Col1091', 'Col1821'}],\n",
              "       [{'Col1823', 'Col1093'}],\n",
              "       [{'Col1097', 'Col1827'}],\n",
              "       [{'Col1833', 'Col1103'}],\n",
              "       [{'Col1107', 'Col1837'}],\n",
              "       [{'Col1839', 'Col1747', 'Col1109'}],\n",
              "       [{'Col1849', 'Col1119'}],\n",
              "       [{'Col1124', 'Col1854'}],\n",
              "       [{'Col1125', 'Col1855'}],\n",
              "       [{'Col1861', 'Col1131'}],\n",
              "       [{'Col1862', 'Col1132'}],\n",
              "       [{'Col1133', 'Col1863'}],\n",
              "       [{'Col1135', 'Col1865'}],\n",
              "       [{'Col1139', 'Col1869'}],\n",
              "       [{'Col1874', 'Col1144'}],\n",
              "       [{'Col1145', 'Col1875'}],\n",
              "       [{'Col1881', 'Col1151'}],\n",
              "       [{'Col1152', 'Col1882'}],\n",
              "       [{'Col1883', 'Col1153'}],\n",
              "       [{'Col1155', 'Col1885'}],\n",
              "       [{'Col1157', 'Col1887'}],\n",
              "       [{'Col1159', 'Col1797', 'Col1889', 'Col1067'}],\n",
              "       [{'Col1898', 'Col1714', 'Col1806'}],\n",
              "       [{'Col1169', 'Col1899'}],\n",
              "       [{'Col1905', 'Col1813', 'Col1175', 'Col1721'}],\n",
              "       [{'Col1907', 'Col1815', 'Col1723'}],\n",
              "       [{'Col1816', 'Col1724', 'Col1908'}],\n",
              "       [{'Col1817', 'Col1179', 'Col1725', 'Col1909'}],\n",
              "       [{'Col1913', 'Col1183'}],\n",
              "       [{'Col1826', 'Col1918'}],\n",
              "       [{'Col1919', 'Col1189'}],\n",
              "       [{'Col1925', 'Col1195'}],\n",
              "       [{'Col1929', 'Col1199'}],\n",
              "       [{'Col1201', 'Col1931'}],\n",
              "       [{'Col1202', 'Col1748', 'Col1932', 'Col1018', 'Col1110', 'Col1840'}],\n",
              "       [{'Col1211', 'Col1941'}],\n",
              "       [{'Col1217', 'Col1947'}],\n",
              "       [{'Col1223', 'Col1953'}],\n",
              "       [{'Col1224', 'Col1954'}],\n",
              "       [{'Col1225', 'Col1955'}],\n",
              "       [{'Col1227', 'Col1957'}],\n",
              "       [{'Col1231', 'Col1961'}],\n",
              "       [{'Col1966', 'Col1236'}],\n",
              "       [{'Col1967', 'Col1237'}],\n",
              "       [{'Col1973', 'Col1243'}],\n",
              "       [{'Col1244', 'Col1974'}],\n",
              "       [{'Col1975', 'Col1245'}],\n",
              "       [{'Col1247', 'Col1977'}],\n",
              "       [{'Col1979', 'Col1249'}],\n",
              "       [{'Col1066', 'Col1888', 'Col1158', 'Col1980', 'Col1704', 'Col1250', 'Col1796', 'Col974'}],\n",
              "       [{'Col1261', 'Col1991'}],\n",
              "       [{'Col1998', 'Col1906', 'Col1722', 'Col1814'}],\n",
              "       [{'Col1271', 'Col2001'}],\n",
              "       [{'Col2005', 'Col1275'}],\n",
              "       [{'Col1281', 'Col2011'}],\n",
              "       [{'Col1287', 'Col2017'}],\n",
              "       [{'Col2018', 'Col1926'}],\n",
              "       [{'Col1291', 'Col2021'}],\n",
              "       [{'Col1930', 'Col2022'}],\n",
              "       [{'Col1293', 'Col2023'}],\n",
              "       [{'Col2024', 'Col1294'}],\n",
              "       [{'Col1981', 'Col1203', 'Col1841', 'Col1111', 'Col1295', 'Col1019', 'Col1933', 'Col1749', 'Col1251', 'Col2025'}],\n",
              "       [{'Col1303', 'Col1717', 'Col987', 'Col2033'}],\n",
              "       [{'Col1313', 'Col2043'}],\n",
              "       [{'Col2045', 'Col1315'}],\n",
              "       [{'Col1317', 'Col2047'}],\n",
              "       [{'Col1319', 'Col2049'}],\n",
              "       [{'Col1325', 'Col2055'}],\n",
              "       [{'Col2040', 'Col1736', 'Col2056'}],\n",
              "       [{'Col1311', 'Col2041', 'Col2057', 'Col1327', 'Col1737', 'Col1007'}],\n",
              "       [{'Col1329', 'Col2059'}],\n",
              "       [{'Col1333', 'Col2063'}],\n",
              "       [{'Col1752', 'Col2064'}],\n",
              "       [{'Col1335', 'Col2065', 'Col1753'}],\n",
              "       [{'Col2067', 'Col1337'}],\n",
              "       [{'Col1339', 'Col2069'}],\n",
              "       [{'Col2070', 'Col1340'}],\n",
              "       [{'Col1341', 'Col2071'}],\n",
              "       [{'Col1343', 'Col2073'}],\n",
              "       [{'Col1672', 'Col2074'}],\n",
              "       [{'Col1673', 'Col1345', 'Col2075', 'Col943'}],\n",
              "       [{'Col1347', 'Col2077'}],\n",
              "       [{'Col1349', 'Col2079'}],\n",
              "       [{'Col2080', 'Col1350'}],\n",
              "       [{'Col2081', 'Col1351'}],\n",
              "       [{'Col1354', 'Col2084'}],\n",
              "       [{'Col2085', 'Col1355'}],\n",
              "       [{'Col2086', 'Col1356'}],\n",
              "       [{'Col2087', 'Col1357'}],\n",
              "       [{'Col1359', 'Col2089'}],\n",
              "       [{'Col2091', 'Col1361'}],\n",
              "       [{'Col1363', 'Col2093'}],\n",
              "       [{'Col2097', 'Col1367'}],\n",
              "       [{'Col2098', 'Col1692', 'Col2082'}],\n",
              "       [{'Col2083', 'Col2099', 'Col1369', 'Col963', 'Col1353', 'Col1693'}],\n",
              "       [{'Col1700', 'Col2100'}],\n",
              "       [{'Col2101', 'Col1371'}],\n",
              "       [{'Col1375', 'Col2105'}],\n",
              "       [{'Col2106', 'Col1708'}],\n",
              "       [{'Col1377', 'Col2107', 'Col1709'}],\n",
              "       [{'Col1379', 'Col1693', 'Col2083', 'Col2109'}],\n",
              "       [{'Col2111', 'Col1381'}],\n",
              "       [{'Col2113', 'Col1383'}],\n",
              "       [{'Col2115', 'Col1385'}],\n",
              "       [{'Col1386', 'Col2116'}],\n",
              "       [{'Col2117', 'Col1387'}],\n",
              "       [{'Col2118', 'Col1388'}],\n",
              "       [{'Col2119', 'Col1389'}],\n",
              "       [{'Col2120', 'Col1390'}],\n",
              "       [{'Col1391', 'Col2121'}],\n",
              "       [{'Col1808', 'Col2032', 'Col2122', 'Col1716'}],\n",
              "       [{'Col1079', 'Col1809', 'Col1393', 'Col2123'}],\n",
              "       [{'Col2124', 'Col2034'}],\n",
              "       [{'Col1395', 'Col2125', 'Col2035'}],\n",
              "       [{'Col2037', 'Col1307', 'Col2127', 'Col1397'}],\n",
              "       [{'Col2039', 'Col1309', 'Col2129', 'Col1399'}],\n",
              "       [{'Col1403', 'Col2133'}],\n",
              "       [{'Col2135', 'Col1405'}],\n",
              "       [{'Col1407', 'Col2137'}],\n",
              "       [{'Col2139', 'Col1409'}],\n",
              "       [{'Col2145', 'Col1415'}],\n",
              "       [{'Col2130', 'Col2146', 'Col1828'}],\n",
              "       [{'Col2147', 'Col2131', 'Col1417', 'Col1099', 'Col1829', 'Col1401'}],\n",
              "       [{'Col2148', 'Col2058', 'Col1836'}],\n",
              "       [{'Col2149', 'Col1419'}],\n",
              "       [{'Col2153', 'Col1423'}],\n",
              "       [{'Col2154', 'Col1844'}],\n",
              "       [{'Col2155', 'Col1845', 'Col1425'}],\n",
              "       [{'Col1427', 'Col2157'}],\n",
              "       [{'Col2159', 'Col1429'}],\n",
              "       [{'Col2160', 'Col1430'}],\n",
              "       [{'Col2161', 'Col1431'}],\n",
              "       [{'Col1433', 'Col2163'}],\n",
              "       [{'Col1764', 'Col2164'}],\n",
              "       [{'Col2165', 'Col1765', 'Col1435', 'Col1035'}],\n",
              "       [{'Col1437', 'Col2167'}],\n",
              "       [{'Col2078', 'Col1438', 'Col2168'}],\n",
              "       [{'Col2169', 'Col1439'}],\n",
              "       [{'Col2170', 'Col1440'}],\n",
              "       [{'Col2171', 'Col1441'}],\n",
              "       [{'Col2174', 'Col1444'}],\n",
              "       [{'Col1445', 'Col2175'}],\n",
              "       [{'Col2176', 'Col1446'}],\n",
              "       [{'Col1447', 'Col2177'}],\n",
              "       [{'Col2179', 'Col1449'}],\n",
              "       [{'Col1451', 'Col2181'}],\n",
              "       [{'Col2183', 'Col1453'}],\n",
              "       [{'Col1456', 'Col2096', 'Col2186'}],\n",
              "       [{'Col2187', 'Col1457'}],\n",
              "       [{'Col2172', 'Col1784', 'Col2188'}],\n",
              "       [{'Col1055', 'Col1785', 'Col1459', 'Col2173', 'Col1443', 'Col2189'}],\n",
              "       [{'Col1792', 'Col2190'}],\n",
              "       [{'Col2191', 'Col1461'}],\n",
              "       [{'Col1465', 'Col2195'}],\n",
              "       [{'Col2196', 'Col1800'}],\n",
              "       [{'Col1467', 'Col2197', 'Col1801'}],\n",
              "       [{'Col1469', 'Col2199'}],\n",
              "       [{'Col2110', 'Col2200', 'Col1470'}],\n",
              "       [{'Col2201', 'Col1471'}],\n",
              "       [{'Col2112', 'Col1472', 'Col2202'}],\n",
              "       [{'Col1473', 'Col2203'}],\n",
              "       [{'Col2114', 'Col2204', 'Col1474'}],\n",
              "       [{'Col1475', 'Col2205'}],\n",
              "       [{'Col1477', 'Col2207'}],\n",
              "       [{'Col1478', 'Col2208'}],\n",
              "       [{'Col2209', 'Col1479'}],\n",
              "       [{'Col1480', 'Col2210'}],\n",
              "       [{'Col2211', 'Col1481'}],\n",
              "       [{'Col1900', 'Col2212'}],\n",
              "       [{'Col1901', 'Col1483', 'Col2213', 'Col1171'}],\n",
              "       [{'Col1485', 'Col2215'}],\n",
              "       [{'Col2036', 'Col2126', 'Col2216'}],\n",
              "       [{'Col1487', 'Col2217'}],\n",
              "       [{'Col2218', 'Col2038', 'Col2128'}],\n",
              "       [{'Col2219', 'Col1489'}],\n",
              "       [{'Col2132', 'Col2222'}],\n",
              "       [{'Col2223', 'Col1493'}],\n",
              "       [{'Col1495', 'Col2225'}],\n",
              "       [{'Col2227', 'Col1497'}],\n",
              "       [{'Col2229', 'Col1499'}],\n",
              "       [{'Col2051', 'Col1501', 'Col2141', 'Col2231'}],\n",
              "       [{'Col2053', 'Col1323', 'Col2143', 'Col1503', 'Col1413', 'Col2233'}],\n",
              "       [{'Col2144', 'Col2234'}],\n",
              "       [{'Col2235', 'Col1505'}],\n",
              "       [{'Col1920', 'Col2236', 'Col2220'}],\n",
              "       [{'Col1491', 'Col2237', 'Col1507', 'Col1191', 'Col1921', 'Col2221'}],\n",
              "       [{'Col2238', 'Col1928'}],\n",
              "       [{'Col1509', 'Col2239'}],\n",
              "       [{'Col2152', 'Col1512', 'Col2242'}],\n",
              "       [{'Col1513', 'Col2243'}],\n",
              "       [{'Col2244', 'Col1936'}],\n",
              "       [{'Col1515', 'Col1937', 'Col2245'}],\n",
              "       [{'Col1517', 'Col2247'}],\n",
              "       [{'Col1519', 'Col2249'}],\n",
              "       [{'Col2251', 'Col1521'}],\n",
              "       [{'Col2253', 'Col1523'}],\n",
              "       [{'Col1856', 'Col2254'}],\n",
              "       [{'Col1525', 'Col1857', 'Col1127', 'Col2255'}],\n",
              "       [{'Col2257', 'Col1527'}],\n",
              "       [{'Col1529', 'Col2259'}],\n",
              "       [{'Col2261', 'Col1531'}],\n",
              "       [{'Col2264', 'Col1534'}],\n",
              "       [{'Col1535', 'Col2265'}],\n",
              "       [{'Col2267', 'Col1537'}],\n",
              "       [{'Col2269', 'Col1539'}],\n",
              "       [{'Col2271', 'Col1541'}],\n",
              "       [{'Col2273', 'Col1543'}],\n",
              "       [{'Col1455', 'Col2185', 'Col1545', 'Col2275'}],\n",
              "       [{'Col1546', 'Col2276'}],\n",
              "       [{'Col1547', 'Col2277'}],\n",
              "       [{'Col1876', 'Col2278', 'Col2262'}],\n",
              "       [{'Col1549', 'Col2263', 'Col2279', 'Col1877', 'Col1533', 'Col1147'}],\n",
              "       [{'Col2280', 'Col1884'}],\n",
              "       [{'Col1551', 'Col2281'}],\n",
              "       [{'Col2194', 'Col1554', 'Col2284'}],\n",
              "       [{'Col2285', 'Col1555'}],\n",
              "       [{'Col2286', 'Col1892'}],\n",
              "       [{'Col1893', 'Col2287', 'Col1557'}],\n",
              "       [{'Col2289', 'Col1559'}],\n",
              "       [{'Col1560', 'Col2290'}],\n",
              "       [{'Col2291', 'Col1561'}],\n",
              "       [{'Col1562', 'Col2292'}],\n",
              "       [{'Col2293', 'Col1563'}],\n",
              "       [{'Col2294', 'Col1564'}],\n",
              "       [{'Col2295', 'Col1565'}],\n",
              "       [{'Col1567', 'Col2297'}],\n",
              "       [{'Col2298', 'Col1568'}],\n",
              "       [{'Col1569', 'Col2299'}],\n",
              "       [{'Col1570', 'Col2300'}],\n",
              "       [{'Col2301', 'Col1571'}],\n",
              "       [{'Col2302', 'Col1992'}],\n",
              "       [{'Col1993', 'Col1263', 'Col2303', 'Col1573'}],\n",
              "       [{'Col1575', 'Col2305'}],\n",
              "       [{'Col1577', 'Col2307'}],\n",
              "       [{'Col1579', 'Col2309'}],\n",
              "       [{'Col2313', 'Col1583'}],\n",
              "       [{'Col2315', 'Col1585'}],\n",
              "       [{'Col2226', 'Col2316', 'Col2136'}],\n",
              "       [{'Col1587', 'Col2317'}],\n",
              "       [{'Col2319', 'Col1589'}],\n",
              "       [{'Col1720', 'Col2050', 'Col2320', 'Col1812', 'Col1996', 'Col2230', 'Col2140', 'Col1904'}],\n",
              "       [{'Col1591', 'Col2321'}],\n",
              "       [{'Col2322', 'Col2232', 'Col2052', 'Col2142'}],\n",
              "       [{'Col2323', 'Col1593'}],\n",
              "       [{'Col2325', 'Col1595'}],\n",
              "       [{'Col2012', 'Col2326', 'Col2310'}],\n",
              "       [{'Col2013', 'Col1283', 'Col2311', 'Col1581', 'Col1597', 'Col2327'}],\n",
              "       [{'Col2328', 'Col2020'}],\n",
              "       [{'Col1599', 'Col2329'}],\n",
              "       [{'Col2240', 'Col2330', 'Col2060', 'Col2150'}],\n",
              "       [{'Col2331', 'Col2241', 'Col2061', 'Col2151'}],\n",
              "       [{'Col1602', 'Col2332'}],\n",
              "       [{'Col2333', 'Col1603'}],\n",
              "       [{'Col2334', 'Col2028'}],\n",
              "       [{'Col2335', 'Col1605', 'Col2029'}],\n",
              "       [{'Col2337', 'Col1607'}],\n",
              "       [{'Col1609', 'Col2339'}],\n",
              "       [{'Col1611', 'Col2341'}],\n",
              "       [{'Col2343', 'Col1613'}],\n",
              "       [{'Col1948', 'Col2344'}],\n",
              "       [{'Col1615', 'Col1219', 'Col1949', 'Col2345'}],\n",
              "       [{'Col2349', 'Col1619'}],\n",
              "       [{'Col1621', 'Col2351'}],\n",
              "       [{'Col1624', 'Col2354'}],\n",
              "       [{'Col2355', 'Col1625'}],\n",
              "       [{'Col2357', 'Col1627'}],\n",
              "       [{'Col1629', 'Col2359'}],\n",
              "       [{'Col1631', 'Col2361'}],\n",
              "       [{'Col1633', 'Col2363'}],\n",
              "       [{'Col1634', 'Col2274', 'Col2364', 'Col2184'}],\n",
              "       [{'Col2365', 'Col1635'}],\n",
              "       [{'Col2367', 'Col1637'}],\n",
              "       [{'Col1968', 'Col2352', 'Col2368'}],\n",
              "       [{'Col2369', 'Col1239', 'Col2353', 'Col1969', 'Col1623', 'Col1639'}],\n",
              "       [{'Col2371', 'Col1641'}],\n",
              "       [{'Col2282', 'Col2102', 'Col2192', 'Col2372'}],\n",
              "       [{'Col2283', 'Col2373'}],\n",
              "       [{'Col1644', 'Col2374'}],\n",
              "       [{'Col2375', 'Col1645'}],\n",
              "       [{'Col1984', 'Col2376'}],\n",
              "       [{'Col2377', 'Col1985', 'Col1647'}],\n",
              "       [{'Col1649', 'Col2379'}],\n",
              "       [{'Col1650', 'Col2380'}],\n",
              "       [{'Col2381', 'Col1651'}],\n",
              "       [{'Col2382', 'Col1652'}],\n",
              "       [{'Col2383', 'Col1653'}],\n",
              "       [{'Col2385', 'Col1655'}],\n",
              "       [{'Col1656', 'Col2386', 'Col2296'}],\n",
              "       [{'Col1657', 'Col2387'}],\n",
              "       [{'Col2388', 'Col1658'}],\n",
              "       [{'Col2389', 'Col1659'}],\n",
              "       [{'Col1660', 'Col2390'}],\n",
              "       [{'Col2391', 'Col1661'}],\n",
              "       [{'Col2393', 'Col2392'}],\n",
              "       [{'Col576', 'Col2394'}],\n",
              "       [{'Col2396', 'Col922', 'Col917', 'Col2395'}],\n",
              "       [{'Col927', 'Col2397'}],\n",
              "       [{'Col238', 'Col316'}],\n",
              "       [{'Col313', 'Col236', 'Col321'}],\n",
              "       [{'Col322', 'Col323'}],\n",
              "       [{'Col378', 'Col181'}],\n",
              "       [{'Col182', 'Col379'}],\n",
              "       [{'Col380', 'Col183'}],\n",
              "       [{'Col381', 'Col184'}],\n",
              "       [{'Col383', 'Col186'}],\n",
              "       [{'Col187', 'Col384'}],\n",
              "       [{'Col188', 'Col385'}],\n",
              "       [{'Col386', 'Col189'}],\n",
              "       [{'Col387', 'Col190'}],\n",
              "       [{'Col191', 'Col388'}],\n",
              "       [{'Col389', 'Col192'}],\n",
              "       [{'Col193', 'Col390'}],\n",
              "       [{'Col194', 'Col391'}],\n",
              "       [{'Col195', 'Col392'}],\n",
              "       [{'Col196', 'Col393'}],\n",
              "       [{'Col198', 'Col395'}],\n",
              "       [{'Col201', 'Col398'}],\n",
              "       [{'Col204', 'Col401'}],\n",
              "       [{'Col205', 'Col402'}],\n",
              "       [{'Col404', 'Col396', 'Col207', 'Col199'}],\n",
              "       [{'Col208', 'Col405'}],\n",
              "       [{'Col406', 'Col209'}],\n",
              "       [{'Col407', 'Col210'}],\n",
              "       [{'Col211', 'Col408'}],\n",
              "       [{'Col212', 'Col409'}],\n",
              "       [{'Col410', 'Col213'}],\n",
              "       [{'Col215', 'Col412'}],\n",
              "       [{'Col413', 'Col216'}],\n",
              "       [{'Col217', 'Col414'}],\n",
              "       [{'Col415', 'Col218'}],\n",
              "       [{'Col219', 'Col416'}],\n",
              "       [{'Col417', 'Col220'}],\n",
              "       [{'Col418', 'Col221'}],\n",
              "       [{'Col419', 'Col222'}],\n",
              "       [{'Col420', 'Col223'}],\n",
              "       [{'Col422', 'Col225'}],\n",
              "       [{'Col229', 'Col426'}],\n",
              "       [{'Col230', 'Col427'}],\n",
              "       [{'Col231', 'Col428'}],\n",
              "       [{'Col429', 'Col232'}],\n",
              "       [{'Col233', 'Col430'}],\n",
              "       [{'Col453', 'Col256'}],\n",
              "       [{'Col467', 'Col270'}],\n",
              "       [{'Col475', 'Col278'}],\n",
              "       [{'Col476', 'Col279'}],\n",
              "       [{'Col477', 'Col280'}],\n",
              "       [{'Col289', 'Col486'}],\n",
              "       [{'Col487', 'Col290'}],\n",
              "       [{'Col488', 'Col291'}],\n",
              "       [{'Col292', 'Col489', 'Col214', 'Col411'}],\n",
              "       [{'Col490', 'Col293'}],\n",
              "       [{'Col294', 'Col491'}],\n",
              "       [{'Col492', 'Col295'}],\n",
              "       [{'Col297', 'Col494'}],\n",
              "       [{'Col495', 'Col298'}],\n",
              "       [{'Col300', 'Col497'}],\n",
              "       [{'Col302', 'Col499'}],\n",
              "       [{'Col500', 'Col303'}],\n",
              "       [{'Col304', 'Col501', 'Col224', 'Col296', 'Col421', 'Col493'}],\n",
              "       [{'Col504', 'Col307'}],\n",
              "       [{'Col505', 'Col308'}],\n",
              "       [{'Col506', 'Col309'}],\n",
              "       [{'Col310', 'Col507'}],\n",
              "       [{'Col508', 'Col311'}],\n",
              "       [{'Col509', 'Col312'}],\n",
              "       [{'Col510', 'Col518', 'Col433'}],\n",
              "       [{'Col520', 'Col519'}],\n",
              "       [{'Col527', 'Col330'}],\n",
              "       [{'Col528', 'Col331'}],\n",
              "       [{'Col332', 'Col529'}],\n",
              "       [{'Col333', 'Col447', 'Col250', 'Col530'}],\n",
              "       [{'Col337', 'Col345', 'Col260', 'Col534', 'Col457', 'Col542'}],\n",
              "       [{'Col350', 'Col547'}],\n",
              "       [{'Col272', 'Col551', 'Col354', 'Col469'}],\n",
              "       [{'Col282', 'Col358', 'Col366', 'Col563', 'Col555', 'Col479'}],\n",
              "       [{'Col567', 'Col370'}],\n",
              "       [{'Col568', 'Col371'}],\n",
              "       [{'Col394', 'Col197', 'Col590'}],\n",
              "       [{'Col593', 'Col397'}],\n",
              "       [{'Col202', 'Col399', 'Col595'}],\n",
              "       [{'Col400', 'Col203', 'Col596'}],\n",
              "       [{'Col206', 'Col599', 'Col403'}],\n",
              "       [{'Col600', 'Col592'}],\n",
              "       [{'Col639', 'Col607'}],\n",
              "       [{'Col617', 'Col643', 'Col651'}],\n",
              "       [{'Col663', 'Col631'}],\n",
              "       [{'Col629', 'Col668', 'Col660'}],\n",
              "       [{'Col669', 'Col670'}],\n",
              "       [{'Col728', 'Col708'}],\n",
              "       [{'Col740', 'Col718', 'Col732'}],\n",
              "       [{'Col686', 'Col749'}],\n",
              "       [{'Col696', 'Col761', 'Col753'}],\n",
              "       [{'Col4', 'Col7', 'Col6', 'Col8'}],\n",
              "       [{'Col817', 'Col797'}],\n",
              "       [{'Col829', 'Col807', 'Col821'}],\n",
              "       [{'Col838', 'Col775'}],\n",
              "       [{'Col850', 'Col842', 'Col785'}],\n",
              "       [{'Col866', 'Col867'}],\n",
              "       [{'Col899', 'Col888', 'Col890', 'Col897'}],\n",
              "       [{'Col892', 'Col901'}],\n",
              "       [{'Col893', 'Col902'}],\n",
              "       [{'Col905', 'Col895', 'Col896', 'Col904', 'Col887'}],\n",
              "       [{'Col908', 'Col906'}],\n",
              "       [{'Col889', 'Col900', 'Col898', 'Col891', 'Col907', 'Col909'}],\n",
              "       [{'Col168', 'Col921', 'Col916', 'Col169'}],\n",
              "       [{'Col924', 'Col919'}],\n",
              "       [{'Col926', 'Col170', 'Col575'}],\n",
              "       [{'Col928', 'Col923', 'Col918'}],\n",
              "       [{'Col932', 'Col931'}]], dtype=object)"
            ]
          },
          "metadata": {
            "tags": []
          },
          "execution_count": 38
        }
      ]
    },
    {
      "cell_type": "code",
      "metadata": {
        "id": "a4qZS4RbekoR",
        "colab_type": "code",
        "outputId": "65512d4d-730f-4e8a-cf3d-080cd7cffd5b",
        "colab": {
          "base_uri": "https://localhost:8080/",
          "height": 54
        }
      },
      "source": [
        "correlated_features = []\n",
        "for sets in correlated_array:\n",
        "    element_list = list(sets[0])\n",
        "    for idx, el in enumerate(element_list):\n",
        "        if idx is not 0:\n",
        "            correlated_features.append(el)\n",
        "\n",
        "print (correlated_features)\n"
      ],
      "execution_count": 39,
      "outputs": [
        {
          "output_type": "stream",
          "text": [
            "['Col946', 'Col950', 'Col1074', 'Col983', 'Col108', 'Col988', 'Col989', 'Col996', 'Col997', 'Col1090', 'Col1168', 'Col984', 'Col1085', 'Col1177', 'Col1178', 'Col994', 'Col1096', 'Col1084', 'Col992', 'Col1176', 'Col1288', 'Col1104', 'Col129', 'Col1200', 'Col131', 'Col1006', 'Col1310', 'Col133', 'Col1022', 'Col1344', 'Col1368', 'Col1352', 'Col137', 'Col970', 'Col978', 'Col1302', 'Col1078', 'Col986', 'Col1394', 'Col1400', 'Col1416', 'Col1418', 'Col1328', 'Col1114', 'Col1338', 'Col1342', 'Col1034', 'Col1458', 'Col1442', 'Col1460', 'Col1070', 'Col1482', 'Col1306', 'Col1486', 'Col1398', 'Col1488', 'Col1504', 'Col1506', 'Col1190', 'Col1508', 'Col1206', 'Col1430', 'Col1126', 'Col1548', 'Col1532', 'Col1550', 'Col1556', 'Col1572', 'Col1582', 'Col1406', 'Col1496', 'Col1266', 'Col1174', 'Col1590', 'Col990', 'Col1320', 'Col1082', 'Col1500', 'Col1592', 'Col1412', 'Col1322', 'Col1282', 'Col1580', 'Col1598', 'Col1330', 'Col1600', 'Col1420', 'Col1331', 'Col1601', 'Col1511', 'Col1298', 'Col160', 'Col1614', 'Col1622', 'Col1638', 'Col1462', 'Col1372', 'Col1552', 'Col1643', 'Col1646', 'Col165', 'Col935', 'Col1671', 'Col1677', 'Col949', 'Col955', 'Col1691', 'Col967', 'Col968', 'Col969', 'Col971', 'Col973', 'Col1705', 'Col999', 'Col172', 'Col1001', 'Col1005', 'Col1741', 'Col1013', 'Col1015', 'Col1757', 'Col1670', 'Col1762', 'Col1763', 'Col1768', 'Col1769', 'Col1678', 'Col1040', 'Col1770', 'Col1041', 'Col1680', 'Col1043', 'Col1681', 'Col951', 'Col1047', 'Col1052', 'Col1782', 'Col1783', 'Col1059', 'Col1060', 'Col1061', 'Col1063', 'Col1795', 'Col1712', 'Col1713', 'Col985', 'Col1077', 'Col1807', 'Col1718', 'Col1811', 'Col1818', 'Col1819', 'Col1821', 'Col1093', 'Col1827', 'Col1103', 'Col1837', 'Col1747', 'Col1109', 'Col1119', 'Col1854', 'Col1855', 'Col1131', 'Col1132', 'Col1863', 'Col1865', 'Col1869', 'Col1144', 'Col1875', 'Col1151', 'Col1882', 'Col1153', 'Col1885', 'Col1887', 'Col1797', 'Col1889', 'Col1067', 'Col1714', 'Col1806', 'Col1899', 'Col1813', 'Col1175', 'Col1721', 'Col1815', 'Col1723', 'Col1724', 'Col1908', 'Col1179', 'Col1725', 'Col1909', 'Col1183', 'Col1918', 'Col1189', 'Col1195', 'Col1199', 'Col1931', 'Col1748', 'Col1932', 'Col1018', 'Col1110', 'Col1840', 'Col1941', 'Col1947', 'Col1953', 'Col1954', 'Col1955', 'Col1957', 'Col1961', 'Col1236', 'Col1237', 'Col1243', 'Col1974', 'Col1245', 'Col1977', 'Col1249', 'Col1888', 'Col1158', 'Col1980', 'Col1704', 'Col1250', 'Col1796', 'Col974', 'Col1991', 'Col1906', 'Col1722', 'Col1814', 'Col2001', 'Col1275', 'Col2011', 'Col2017', 'Col1926', 'Col2021', 'Col2022', 'Col2023', 'Col1294', 'Col1203', 'Col1841', 'Col1111', 'Col1295', 'Col1019', 'Col1933', 'Col1749', 'Col1251', 'Col2025', 'Col1717', 'Col987', 'Col2033', 'Col2043', 'Col1315', 'Col2047', 'Col2049', 'Col2055', 'Col1736', 'Col2056', 'Col2041', 'Col2057', 'Col1327', 'Col1737', 'Col1007', 'Col2059', 'Col2063', 'Col2064', 'Col2065', 'Col1753', 'Col1337', 'Col2069', 'Col1340', 'Col2071', 'Col2073', 'Col2074', 'Col1345', 'Col2075', 'Col943', 'Col2077', 'Col2079', 'Col1350', 'Col1351', 'Col2084', 'Col1355', 'Col1356', 'Col1357', 'Col2089', 'Col1361', 'Col2093', 'Col1367', 'Col1692', 'Col2082', 'Col2099', 'Col1369', 'Col963', 'Col1353', 'Col1693', 'Col2100', 'Col1371', 'Col2105', 'Col1708', 'Col2107', 'Col1709', 'Col1693', 'Col2083', 'Col2109', 'Col1381', 'Col1383', 'Col1385', 'Col2116', 'Col1387', 'Col1388', 'Col1389', 'Col1390', 'Col2121', 'Col2032', 'Col2122', 'Col1716', 'Col1809', 'Col1393', 'Col2123', 'Col2034', 'Col2125', 'Col2035', 'Col1307', 'Col2127', 'Col1397', 'Col1309', 'Col2129', 'Col1399', 'Col2133', 'Col1405', 'Col2137', 'Col1409', 'Col1415', 'Col2146', 'Col1828', 'Col2131', 'Col1417', 'Col1099', 'Col1829', 'Col1401', 'Col2058', 'Col1836', 'Col1419', 'Col1423', 'Col1844', 'Col1845', 'Col1425', 'Col2157', 'Col1429', 'Col1430', 'Col1431', 'Col2163', 'Col2164', 'Col1765', 'Col1435', 'Col1035', 'Col2167', 'Col1438', 'Col2168', 'Col1439', 'Col1440', 'Col1441', 'Col1444', 'Col2175', 'Col1446', 'Col2177', 'Col1449', 'Col2181', 'Col1453', 'Col2096', 'Col2186', 'Col1457', 'Col1784', 'Col2188', 'Col1785', 'Col1459', 'Col2173', 'Col1443', 'Col2189', 'Col2190', 'Col1461', 'Col2195', 'Col1800', 'Col2197', 'Col1801', 'Col2199', 'Col2200', 'Col1470', 'Col1471', 'Col1472', 'Col2202', 'Col2203', 'Col2204', 'Col1474', 'Col2205', 'Col2207', 'Col2208', 'Col1479', 'Col2210', 'Col1481', 'Col2212', 'Col1483', 'Col2213', 'Col1171', 'Col2215', 'Col2126', 'Col2216', 'Col2217', 'Col2038', 'Col2128', 'Col1489', 'Col2222', 'Col1493', 'Col2225', 'Col1497', 'Col1499', 'Col1501', 'Col2141', 'Col2231', 'Col1323', 'Col2143', 'Col1503', 'Col1413', 'Col2233', 'Col2234', 'Col1505', 'Col2236', 'Col2220', 'Col2237', 'Col1507', 'Col1191', 'Col1921', 'Col2221', 'Col1928', 'Col2239', 'Col1512', 'Col2242', 'Col2243', 'Col1936', 'Col1937', 'Col2245', 'Col2247', 'Col2249', 'Col1521', 'Col1523', 'Col2254', 'Col1857', 'Col1127', 'Col2255', 'Col1527', 'Col2259', 'Col1531', 'Col1534', 'Col2265', 'Col1537', 'Col1539', 'Col1541', 'Col1543', 'Col2185', 'Col1545', 'Col2275', 'Col2276', 'Col2277', 'Col2278', 'Col2262', 'Col2263', 'Col2279', 'Col1877', 'Col1533', 'Col1147', 'Col1884', 'Col2281', 'Col1554', 'Col2284', 'Col1555', 'Col1892', 'Col2287', 'Col1557', 'Col1559', 'Col2290', 'Col1561', 'Col2292', 'Col1563', 'Col1564', 'Col1565', 'Col2297', 'Col1568', 'Col2299', 'Col2300', 'Col1571', 'Col1992', 'Col1263', 'Col2303', 'Col1573', 'Col2305', 'Col2307', 'Col2309', 'Col1583', 'Col1585', 'Col2316', 'Col2136', 'Col2317', 'Col1589', 'Col2050', 'Col2320', 'Col1812', 'Col1996', 'Col2230', 'Col2140', 'Col1904', 'Col2321', 'Col2232', 'Col2052', 'Col2142', 'Col1593', 'Col1595', 'Col2326', 'Col2310', 'Col1283', 'Col2311', 'Col1581', 'Col1597', 'Col2327', 'Col2020', 'Col2329', 'Col2330', 'Col2060', 'Col2150', 'Col2241', 'Col2061', 'Col2151', 'Col2332', 'Col1603', 'Col2028', 'Col1605', 'Col2029', 'Col1607', 'Col2339', 'Col2341', 'Col1613', 'Col2344', 'Col1219', 'Col1949', 'Col2345', 'Col1619', 'Col2351', 'Col2354', 'Col1625', 'Col1627', 'Col2359', 'Col2361', 'Col2363', 'Col2274', 'Col2364', 'Col2184', 'Col1635', 'Col1637', 'Col2352', 'Col2368', 'Col1239', 'Col2353', 'Col1969', 'Col1623', 'Col1639', 'Col1641', 'Col2102', 'Col2192', 'Col2372', 'Col2373', 'Col2374', 'Col1645', 'Col2376', 'Col1985', 'Col1647', 'Col2379', 'Col2380', 'Col1651', 'Col1652', 'Col1653', 'Col1655', 'Col2386', 'Col2296', 'Col2387', 'Col1658', 'Col1659', 'Col2390', 'Col1661', 'Col2392', 'Col2394', 'Col922', 'Col917', 'Col2395', 'Col2397', 'Col316', 'Col236', 'Col321', 'Col323', 'Col181', 'Col379', 'Col183', 'Col184', 'Col186', 'Col384', 'Col385', 'Col189', 'Col190', 'Col388', 'Col192', 'Col390', 'Col391', 'Col392', 'Col393', 'Col395', 'Col398', 'Col401', 'Col402', 'Col396', 'Col207', 'Col199', 'Col405', 'Col209', 'Col210', 'Col408', 'Col409', 'Col213', 'Col412', 'Col216', 'Col414', 'Col218', 'Col416', 'Col220', 'Col221', 'Col222', 'Col223', 'Col225', 'Col426', 'Col427', 'Col428', 'Col232', 'Col430', 'Col256', 'Col270', 'Col278', 'Col279', 'Col280', 'Col486', 'Col290', 'Col291', 'Col489', 'Col214', 'Col411', 'Col293', 'Col491', 'Col295', 'Col494', 'Col298', 'Col497', 'Col499', 'Col303', 'Col501', 'Col224', 'Col296', 'Col421', 'Col493', 'Col307', 'Col308', 'Col309', 'Col507', 'Col311', 'Col312', 'Col518', 'Col433', 'Col519', 'Col330', 'Col331', 'Col529', 'Col447', 'Col250', 'Col530', 'Col345', 'Col260', 'Col534', 'Col457', 'Col542', 'Col547', 'Col551', 'Col354', 'Col469', 'Col358', 'Col366', 'Col563', 'Col555', 'Col479', 'Col370', 'Col371', 'Col197', 'Col590', 'Col397', 'Col399', 'Col595', 'Col203', 'Col596', 'Col599', 'Col403', 'Col592', 'Col607', 'Col643', 'Col651', 'Col631', 'Col668', 'Col660', 'Col670', 'Col708', 'Col718', 'Col732', 'Col749', 'Col761', 'Col753', 'Col7', 'Col6', 'Col8', 'Col797', 'Col807', 'Col821', 'Col775', 'Col842', 'Col785', 'Col867', 'Col888', 'Col890', 'Col897', 'Col901', 'Col902', 'Col895', 'Col896', 'Col904', 'Col887', 'Col906', 'Col900', 'Col898', 'Col891', 'Col907', 'Col909', 'Col921', 'Col916', 'Col169', 'Col919', 'Col170', 'Col575', 'Col923', 'Col918', 'Col931']\n"
          ],
          "name": "stdout"
        }
      ]
    },
    {
      "cell_type": "code",
      "metadata": {
        "id": "D5bk59ExemV6",
        "colab_type": "code",
        "colab": {}
      },
      "source": [
        "non_cor_train_df = tdf.drop(correlated_features, axis=1 )"
      ],
      "execution_count": 0,
      "outputs": []
    },
    {
      "cell_type": "code",
      "metadata": {
        "id": "xss3vCYLemZd",
        "colab_type": "code",
        "outputId": "616e9865-4d25-4c04-bec7-788b73f9ac84",
        "colab": {
          "base_uri": "https://localhost:8080/",
          "height": 34
        }
      },
      "source": [
        "non_cor_train_df.shape\n"
      ],
      "execution_count": 42,
      "outputs": [
        {
          "output_type": "execute_result",
          "data": {
            "text/plain": [
              "(17521, 1368)"
            ]
          },
          "metadata": {
            "tags": []
          },
          "execution_count": 42
        }
      ]
    },
    {
      "cell_type": "code",
      "metadata": {
        "id": "ome-gglnemij",
        "colab_type": "code",
        "colab": {}
      },
      "source": [
        "non_cor_train_df.head()"
      ],
      "execution_count": 0,
      "outputs": []
    },
    {
      "cell_type": "code",
      "metadata": {
        "id": "0n7q8NrUemoB",
        "colab_type": "code",
        "colab": {}
      },
      "source": [
        "import seaborn as sns; sns.set(style=\"ticks\", color_codes=True)\n",
        "g = sns.pairplot(non_cor_train_df)"
      ],
      "execution_count": 0,
      "outputs": []
    },
    {
      "cell_type": "code",
      "metadata": {
        "id": "UbVEvEo1emwU",
        "colab_type": "code",
        "outputId": "c2ca3c66-00ff-4e0a-d07a-b117d819b013",
        "colab": {
          "base_uri": "https://localhost:8080/",
          "height": 34
        }
      },
      "source": [
        "unique_values_list = non_cor_train_df.nunique()\n",
        "unique_values_list=unique_values_list.reset_index()\n",
        "unique_values_list.columns = ['Col',\"Count\"]\n",
        "unique_values_list['Col'].count()"
      ],
      "execution_count": 43,
      "outputs": [
        {
          "output_type": "execute_result",
          "data": {
            "text/plain": [
              "1368"
            ]
          },
          "metadata": {
            "tags": []
          },
          "execution_count": 43
        }
      ]
    },
    {
      "cell_type": "code",
      "metadata": {
        "id": "7AWZGXJvlCer",
        "colab_type": "code",
        "colab": {
          "base_uri": "https://localhost:8080/",
          "height": 256
        },
        "outputId": "d8cafffe-3e71-4b0c-f0b7-33aeb5aaf887"
      },
      "source": [
        "continious =  unique_values_list[unique_values_list['Count'] > 990]\n",
        "cont_cols = continious['Col']\n",
        "cont_df = non_cor_train_df[cont_cols]\n",
        "cat_df = non_cor_train_df.drop(cont_cols,axis=1)\n",
        "cat_df.head()"
      ],
      "execution_count": 46,
      "outputs": [
        {
          "output_type": "execute_result",
          "data": {
            "text/html": [
              "<div>\n",
              "<style scoped>\n",
              "    .dataframe tbody tr th:only-of-type {\n",
              "        vertical-align: middle;\n",
              "    }\n",
              "\n",
              "    .dataframe tbody tr th {\n",
              "        vertical-align: top;\n",
              "    }\n",
              "\n",
              "    .dataframe thead th {\n",
              "        text-align: right;\n",
              "    }\n",
              "</style>\n",
              "<table border=\"1\" class=\"dataframe\">\n",
              "  <thead>\n",
              "    <tr style=\"text-align: right;\">\n",
              "      <th></th>\n",
              "      <th>Col2</th>\n",
              "      <th>Col29</th>\n",
              "      <th>Col30</th>\n",
              "      <th>Col31</th>\n",
              "      <th>Col32</th>\n",
              "      <th>Col33</th>\n",
              "      <th>Col34</th>\n",
              "      <th>Col35</th>\n",
              "      <th>Col36</th>\n",
              "      <th>Col44</th>\n",
              "      <th>Col45</th>\n",
              "      <th>Col46</th>\n",
              "      <th>Col47</th>\n",
              "      <th>Col48</th>\n",
              "      <th>Col49</th>\n",
              "      <th>Col50</th>\n",
              "      <th>Col51</th>\n",
              "      <th>Col52</th>\n",
              "      <th>Col53</th>\n",
              "      <th>Col54</th>\n",
              "      <th>Col55</th>\n",
              "      <th>Col56</th>\n",
              "      <th>Col57</th>\n",
              "      <th>Col58</th>\n",
              "      <th>Col59</th>\n",
              "      <th>Col60</th>\n",
              "      <th>Col61</th>\n",
              "      <th>Col62</th>\n",
              "      <th>Col63</th>\n",
              "      <th>Col64</th>\n",
              "      <th>Col65</th>\n",
              "      <th>Col66</th>\n",
              "      <th>Col67</th>\n",
              "      <th>Col68</th>\n",
              "      <th>Col69</th>\n",
              "      <th>Col70</th>\n",
              "      <th>Col71</th>\n",
              "      <th>Col72</th>\n",
              "      <th>Col73</th>\n",
              "      <th>Col74</th>\n",
              "      <th>...</th>\n",
              "      <th>Col2331</th>\n",
              "      <th>Col2333</th>\n",
              "      <th>Col2334</th>\n",
              "      <th>Col2335</th>\n",
              "      <th>Col2336</th>\n",
              "      <th>Col2337</th>\n",
              "      <th>Col2338</th>\n",
              "      <th>Col2340</th>\n",
              "      <th>Col2342</th>\n",
              "      <th>Col2343</th>\n",
              "      <th>Col2346</th>\n",
              "      <th>Col2347</th>\n",
              "      <th>Col2348</th>\n",
              "      <th>Col2349</th>\n",
              "      <th>Col2350</th>\n",
              "      <th>Col2355</th>\n",
              "      <th>Col2356</th>\n",
              "      <th>Col2357</th>\n",
              "      <th>Col2358</th>\n",
              "      <th>Col2360</th>\n",
              "      <th>Col2362</th>\n",
              "      <th>Col2365</th>\n",
              "      <th>Col2366</th>\n",
              "      <th>Col2367</th>\n",
              "      <th>Col2369</th>\n",
              "      <th>Col2370</th>\n",
              "      <th>Col2371</th>\n",
              "      <th>Col2375</th>\n",
              "      <th>Col2377</th>\n",
              "      <th>Col2378</th>\n",
              "      <th>Col2381</th>\n",
              "      <th>Col2382</th>\n",
              "      <th>Col2383</th>\n",
              "      <th>Col2384</th>\n",
              "      <th>Col2385</th>\n",
              "      <th>Col2388</th>\n",
              "      <th>Col2389</th>\n",
              "      <th>Col2391</th>\n",
              "      <th>Col2393</th>\n",
              "      <th>Col2396</th>\n",
              "    </tr>\n",
              "  </thead>\n",
              "  <tbody>\n",
              "    <tr>\n",
              "      <th>0</th>\n",
              "      <td>1</td>\n",
              "      <td>1</td>\n",
              "      <td>1</td>\n",
              "      <td>1</td>\n",
              "      <td>1</td>\n",
              "      <td>1</td>\n",
              "      <td>1</td>\n",
              "      <td>0</td>\n",
              "      <td>6</td>\n",
              "      <td>2</td>\n",
              "      <td>3</td>\n",
              "      <td>2</td>\n",
              "      <td>3</td>\n",
              "      <td>2</td>\n",
              "      <td>2</td>\n",
              "      <td>2</td>\n",
              "      <td>2</td>\n",
              "      <td>1</td>\n",
              "      <td>3</td>\n",
              "      <td>1</td>\n",
              "      <td>3</td>\n",
              "      <td>1</td>\n",
              "      <td>2</td>\n",
              "      <td>1</td>\n",
              "      <td>2</td>\n",
              "      <td>1</td>\n",
              "      <td>1</td>\n",
              "      <td>1</td>\n",
              "      <td>1</td>\n",
              "      <td>1</td>\n",
              "      <td>1</td>\n",
              "      <td>1</td>\n",
              "      <td>1</td>\n",
              "      <td>3</td>\n",
              "      <td>1</td>\n",
              "      <td>3</td>\n",
              "      <td>1</td>\n",
              "      <td>3</td>\n",
              "      <td>1</td>\n",
              "      <td>3</td>\n",
              "      <td>...</td>\n",
              "      <td>0</td>\n",
              "      <td>0</td>\n",
              "      <td>1</td>\n",
              "      <td>1</td>\n",
              "      <td>1</td>\n",
              "      <td>1</td>\n",
              "      <td>0</td>\n",
              "      <td>0</td>\n",
              "      <td>0</td>\n",
              "      <td>0</td>\n",
              "      <td>0</td>\n",
              "      <td>0</td>\n",
              "      <td>0</td>\n",
              "      <td>0</td>\n",
              "      <td>0</td>\n",
              "      <td>0</td>\n",
              "      <td>0</td>\n",
              "      <td>0</td>\n",
              "      <td>0</td>\n",
              "      <td>0</td>\n",
              "      <td>0</td>\n",
              "      <td>0</td>\n",
              "      <td>0</td>\n",
              "      <td>0</td>\n",
              "      <td>0</td>\n",
              "      <td>0</td>\n",
              "      <td>0</td>\n",
              "      <td>0</td>\n",
              "      <td>0</td>\n",
              "      <td>0</td>\n",
              "      <td>0</td>\n",
              "      <td>0</td>\n",
              "      <td>0</td>\n",
              "      <td>0</td>\n",
              "      <td>0</td>\n",
              "      <td>0</td>\n",
              "      <td>1</td>\n",
              "      <td>1</td>\n",
              "      <td>214.0</td>\n",
              "      <td>22.0</td>\n",
              "    </tr>\n",
              "    <tr>\n",
              "      <th>1</th>\n",
              "      <td>0</td>\n",
              "      <td>1</td>\n",
              "      <td>1</td>\n",
              "      <td>3</td>\n",
              "      <td>4</td>\n",
              "      <td>4</td>\n",
              "      <td>0</td>\n",
              "      <td>4</td>\n",
              "      <td>5</td>\n",
              "      <td>3</td>\n",
              "      <td>0</td>\n",
              "      <td>2</td>\n",
              "      <td>0</td>\n",
              "      <td>2</td>\n",
              "      <td>0</td>\n",
              "      <td>1</td>\n",
              "      <td>0</td>\n",
              "      <td>3</td>\n",
              "      <td>0</td>\n",
              "      <td>2</td>\n",
              "      <td>0</td>\n",
              "      <td>2</td>\n",
              "      <td>0</td>\n",
              "      <td>1</td>\n",
              "      <td>0</td>\n",
              "      <td>2</td>\n",
              "      <td>0</td>\n",
              "      <td>2</td>\n",
              "      <td>0</td>\n",
              "      <td>2</td>\n",
              "      <td>0</td>\n",
              "      <td>1</td>\n",
              "      <td>0</td>\n",
              "      <td>2</td>\n",
              "      <td>0</td>\n",
              "      <td>2</td>\n",
              "      <td>0</td>\n",
              "      <td>2</td>\n",
              "      <td>0</td>\n",
              "      <td>2</td>\n",
              "      <td>...</td>\n",
              "      <td>0</td>\n",
              "      <td>0</td>\n",
              "      <td>1</td>\n",
              "      <td>0</td>\n",
              "      <td>0</td>\n",
              "      <td>0</td>\n",
              "      <td>1</td>\n",
              "      <td>0</td>\n",
              "      <td>0</td>\n",
              "      <td>0</td>\n",
              "      <td>0</td>\n",
              "      <td>0</td>\n",
              "      <td>0</td>\n",
              "      <td>0</td>\n",
              "      <td>0</td>\n",
              "      <td>0</td>\n",
              "      <td>0</td>\n",
              "      <td>0</td>\n",
              "      <td>0</td>\n",
              "      <td>0</td>\n",
              "      <td>0</td>\n",
              "      <td>0</td>\n",
              "      <td>0</td>\n",
              "      <td>0</td>\n",
              "      <td>0</td>\n",
              "      <td>0</td>\n",
              "      <td>1</td>\n",
              "      <td>0</td>\n",
              "      <td>0</td>\n",
              "      <td>0</td>\n",
              "      <td>0</td>\n",
              "      <td>0</td>\n",
              "      <td>0</td>\n",
              "      <td>0</td>\n",
              "      <td>0</td>\n",
              "      <td>0</td>\n",
              "      <td>0</td>\n",
              "      <td>0</td>\n",
              "      <td>41.0</td>\n",
              "      <td>12.0</td>\n",
              "    </tr>\n",
              "    <tr>\n",
              "      <th>2</th>\n",
              "      <td>0</td>\n",
              "      <td>3</td>\n",
              "      <td>3</td>\n",
              "      <td>4</td>\n",
              "      <td>12</td>\n",
              "      <td>4</td>\n",
              "      <td>0</td>\n",
              "      <td>2</td>\n",
              "      <td>4</td>\n",
              "      <td>2</td>\n",
              "      <td>1</td>\n",
              "      <td>2</td>\n",
              "      <td>0</td>\n",
              "      <td>1</td>\n",
              "      <td>0</td>\n",
              "      <td>1</td>\n",
              "      <td>0</td>\n",
              "      <td>2</td>\n",
              "      <td>1</td>\n",
              "      <td>2</td>\n",
              "      <td>0</td>\n",
              "      <td>1</td>\n",
              "      <td>0</td>\n",
              "      <td>1</td>\n",
              "      <td>0</td>\n",
              "      <td>1</td>\n",
              "      <td>1</td>\n",
              "      <td>1</td>\n",
              "      <td>0</td>\n",
              "      <td>1</td>\n",
              "      <td>0</td>\n",
              "      <td>1</td>\n",
              "      <td>0</td>\n",
              "      <td>2</td>\n",
              "      <td>1</td>\n",
              "      <td>2</td>\n",
              "      <td>1</td>\n",
              "      <td>1</td>\n",
              "      <td>0</td>\n",
              "      <td>1</td>\n",
              "      <td>...</td>\n",
              "      <td>0</td>\n",
              "      <td>0</td>\n",
              "      <td>2</td>\n",
              "      <td>0</td>\n",
              "      <td>2</td>\n",
              "      <td>0</td>\n",
              "      <td>1</td>\n",
              "      <td>0</td>\n",
              "      <td>0</td>\n",
              "      <td>0</td>\n",
              "      <td>1</td>\n",
              "      <td>0</td>\n",
              "      <td>2</td>\n",
              "      <td>1</td>\n",
              "      <td>0</td>\n",
              "      <td>0</td>\n",
              "      <td>0</td>\n",
              "      <td>0</td>\n",
              "      <td>1</td>\n",
              "      <td>1</td>\n",
              "      <td>1</td>\n",
              "      <td>0</td>\n",
              "      <td>0</td>\n",
              "      <td>0</td>\n",
              "      <td>0</td>\n",
              "      <td>1</td>\n",
              "      <td>1</td>\n",
              "      <td>0</td>\n",
              "      <td>0</td>\n",
              "      <td>2</td>\n",
              "      <td>0</td>\n",
              "      <td>0</td>\n",
              "      <td>0</td>\n",
              "      <td>0</td>\n",
              "      <td>0</td>\n",
              "      <td>0</td>\n",
              "      <td>1</td>\n",
              "      <td>0</td>\n",
              "      <td>378.0</td>\n",
              "      <td>21.0</td>\n",
              "    </tr>\n",
              "    <tr>\n",
              "      <th>3</th>\n",
              "      <td>0</td>\n",
              "      <td>2</td>\n",
              "      <td>2</td>\n",
              "      <td>2</td>\n",
              "      <td>24</td>\n",
              "      <td>1</td>\n",
              "      <td>0</td>\n",
              "      <td>1</td>\n",
              "      <td>4</td>\n",
              "      <td>2</td>\n",
              "      <td>1</td>\n",
              "      <td>2</td>\n",
              "      <td>1</td>\n",
              "      <td>1</td>\n",
              "      <td>1</td>\n",
              "      <td>1</td>\n",
              "      <td>1</td>\n",
              "      <td>2</td>\n",
              "      <td>1</td>\n",
              "      <td>2</td>\n",
              "      <td>1</td>\n",
              "      <td>1</td>\n",
              "      <td>1</td>\n",
              "      <td>1</td>\n",
              "      <td>1</td>\n",
              "      <td>2</td>\n",
              "      <td>0</td>\n",
              "      <td>2</td>\n",
              "      <td>0</td>\n",
              "      <td>1</td>\n",
              "      <td>0</td>\n",
              "      <td>1</td>\n",
              "      <td>0</td>\n",
              "      <td>2</td>\n",
              "      <td>1</td>\n",
              "      <td>2</td>\n",
              "      <td>1</td>\n",
              "      <td>2</td>\n",
              "      <td>1</td>\n",
              "      <td>2</td>\n",
              "      <td>...</td>\n",
              "      <td>0</td>\n",
              "      <td>0</td>\n",
              "      <td>2</td>\n",
              "      <td>0</td>\n",
              "      <td>3</td>\n",
              "      <td>0</td>\n",
              "      <td>1</td>\n",
              "      <td>0</td>\n",
              "      <td>1</td>\n",
              "      <td>2</td>\n",
              "      <td>0</td>\n",
              "      <td>1</td>\n",
              "      <td>0</td>\n",
              "      <td>1</td>\n",
              "      <td>1</td>\n",
              "      <td>0</td>\n",
              "      <td>0</td>\n",
              "      <td>0</td>\n",
              "      <td>0</td>\n",
              "      <td>0</td>\n",
              "      <td>0</td>\n",
              "      <td>0</td>\n",
              "      <td>0</td>\n",
              "      <td>1</td>\n",
              "      <td>0</td>\n",
              "      <td>1</td>\n",
              "      <td>2</td>\n",
              "      <td>0</td>\n",
              "      <td>1</td>\n",
              "      <td>2</td>\n",
              "      <td>0</td>\n",
              "      <td>0</td>\n",
              "      <td>0</td>\n",
              "      <td>1</td>\n",
              "      <td>2</td>\n",
              "      <td>0</td>\n",
              "      <td>0</td>\n",
              "      <td>0</td>\n",
              "      <td>702.0</td>\n",
              "      <td>951.0</td>\n",
              "    </tr>\n",
              "    <tr>\n",
              "      <th>4</th>\n",
              "      <td>0</td>\n",
              "      <td>4</td>\n",
              "      <td>3</td>\n",
              "      <td>4</td>\n",
              "      <td>68</td>\n",
              "      <td>8</td>\n",
              "      <td>0</td>\n",
              "      <td>2</td>\n",
              "      <td>4</td>\n",
              "      <td>1</td>\n",
              "      <td>2</td>\n",
              "      <td>1</td>\n",
              "      <td>2</td>\n",
              "      <td>1</td>\n",
              "      <td>2</td>\n",
              "      <td>1</td>\n",
              "      <td>2</td>\n",
              "      <td>1</td>\n",
              "      <td>2</td>\n",
              "      <td>1</td>\n",
              "      <td>2</td>\n",
              "      <td>1</td>\n",
              "      <td>2</td>\n",
              "      <td>1</td>\n",
              "      <td>2</td>\n",
              "      <td>0</td>\n",
              "      <td>2</td>\n",
              "      <td>0</td>\n",
              "      <td>2</td>\n",
              "      <td>0</td>\n",
              "      <td>2</td>\n",
              "      <td>0</td>\n",
              "      <td>2</td>\n",
              "      <td>1</td>\n",
              "      <td>2</td>\n",
              "      <td>1</td>\n",
              "      <td>2</td>\n",
              "      <td>1</td>\n",
              "      <td>2</td>\n",
              "      <td>1</td>\n",
              "      <td>...</td>\n",
              "      <td>1</td>\n",
              "      <td>0</td>\n",
              "      <td>0</td>\n",
              "      <td>0</td>\n",
              "      <td>0</td>\n",
              "      <td>0</td>\n",
              "      <td>0</td>\n",
              "      <td>0</td>\n",
              "      <td>0</td>\n",
              "      <td>0</td>\n",
              "      <td>0</td>\n",
              "      <td>1</td>\n",
              "      <td>0</td>\n",
              "      <td>0</td>\n",
              "      <td>0</td>\n",
              "      <td>0</td>\n",
              "      <td>0</td>\n",
              "      <td>0</td>\n",
              "      <td>0</td>\n",
              "      <td>0</td>\n",
              "      <td>0</td>\n",
              "      <td>1</td>\n",
              "      <td>0</td>\n",
              "      <td>0</td>\n",
              "      <td>0</td>\n",
              "      <td>2</td>\n",
              "      <td>1</td>\n",
              "      <td>0</td>\n",
              "      <td>0</td>\n",
              "      <td>0</td>\n",
              "      <td>0</td>\n",
              "      <td>0</td>\n",
              "      <td>0</td>\n",
              "      <td>0</td>\n",
              "      <td>0</td>\n",
              "      <td>0</td>\n",
              "      <td>0</td>\n",
              "      <td>0</td>\n",
              "      <td>1305.0</td>\n",
              "      <td>2205.0</td>\n",
              "    </tr>\n",
              "  </tbody>\n",
              "</table>\n",
              "<p>5 rows × 1054 columns</p>\n",
              "</div>"
            ],
            "text/plain": [
              "   Col2  Col29  Col30  Col31  ...  Col2389  Col2391  Col2393  Col2396\n",
              "0     1      1      1      1  ...        1        1    214.0     22.0\n",
              "1     0      1      1      3  ...        0        0     41.0     12.0\n",
              "2     0      3      3      4  ...        1        0    378.0     21.0\n",
              "3     0      2      2      2  ...        0        0    702.0    951.0\n",
              "4     0      4      3      4  ...        0        0   1305.0   2205.0\n",
              "\n",
              "[5 rows x 1054 columns]"
            ]
          },
          "metadata": {
            "tags": []
          },
          "execution_count": 46
        }
      ]
    },
    {
      "cell_type": "code",
      "metadata": {
        "id": "lLsqXuEfemzL",
        "colab_type": "code",
        "outputId": "2c20d088-a883-47ec-edcc-5ca7ac6cef9a",
        "colab": {
          "base_uri": "https://localhost:8080/",
          "height": 121
        }
      },
      "source": [
        "wrongly_classified =['Col2393','Col2396']\n",
        "for col in wrongly_classified:\n",
        "  cont_df[col] = non_cor_train_df[col]\n",
        "  cat_df.drop(col,axis=1,inplace=True)"
      ],
      "execution_count": 47,
      "outputs": [
        {
          "output_type": "stream",
          "text": [
            "/usr/local/lib/python3.6/dist-packages/ipykernel_launcher.py:3: SettingWithCopyWarning: \n",
            "A value is trying to be set on a copy of a slice from a DataFrame.\n",
            "Try using .loc[row_indexer,col_indexer] = value instead\n",
            "\n",
            "See the caveats in the documentation: http://pandas.pydata.org/pandas-docs/stable/indexing.html#indexing-view-versus-copy\n",
            "  This is separate from the ipykernel package so we can avoid doing imports until\n"
          ],
          "name": "stderr"
        }
      ]
    },
    {
      "cell_type": "code",
      "metadata": {
        "id": "aFoxJlhbemtv",
        "colab_type": "code",
        "colab": {}
      },
      "source": [
        "cat_df = cat_df.drop('Col2', axis=1)"
      ],
      "execution_count": 0,
      "outputs": []
    },
    {
      "cell_type": "code",
      "metadata": {
        "id": "2ItfhYqFniHn",
        "colab_type": "code",
        "colab": {}
      },
      "source": [
        "def get_missing_count(df):\n",
        "  missing_df = df.isnull().sum(axis=0).reset_index()\n",
        "  missing_df.columns = ['column_name', 'missing_count']\n",
        "  missing_df = missing_df.loc[missing_df['missing_count']>0]\n",
        "  return missing_df"
      ],
      "execution_count": 0,
      "outputs": []
    },
    {
      "cell_type": "code",
      "metadata": {
        "id": "932WQPHnlaIn",
        "colab_type": "code",
        "colab": {}
      },
      "source": [
        "def get_non_missing_columns(df):\n",
        "  missing_df = df.isnull().sum(axis=0).reset_index()\n",
        "  missing_df.columns = ['column_name', 'missing_count']\n",
        "  missing_df = missing_df.loc[missing_df['missing_count']==0]\n",
        "  return missing_df"
      ],
      "execution_count": 0,
      "outputs": []
    },
    {
      "cell_type": "code",
      "metadata": {
        "id": "Ey59PyG9emr4",
        "colab_type": "code",
        "colab": {}
      },
      "source": [
        "cat_non_miss_columns =list(get_non_missing_columns(cat_df)['column_name'])\n",
        "cont_non_miss_columns =list(get_non_missing_columns(cont_df)['column_name'])\n",
        "\n"
      ],
      "execution_count": 0,
      "outputs": []
    },
    {
      "cell_type": "code",
      "metadata": {
        "id": "HezAUg8OemmP",
        "colab_type": "code",
        "outputId": "5d49197f-3bda-4547-c6f3-6005f8aa8b1f",
        "colab": {
          "base_uri": "https://localhost:8080/",
          "height": 121
        }
      },
      "source": [
        "final_cols = cat_non_miss_columns+cont_non_miss_columns\n",
        "\n",
        "training_df = non_cor_train_df[final_cols]\n",
        "training_df['Col2'] = non_cor_train_df['Col2']\n",
        "\n",
        "\n",
        "#Expliciltly choosing only already decided features\n",
        "testing_df = test_df_itm[final_cols]"
      ],
      "execution_count": 52,
      "outputs": [
        {
          "output_type": "stream",
          "text": [
            "/usr/local/lib/python3.6/dist-packages/ipykernel_launcher.py:4: SettingWithCopyWarning: \n",
            "A value is trying to be set on a copy of a slice from a DataFrame.\n",
            "Try using .loc[row_indexer,col_indexer] = value instead\n",
            "\n",
            "See the caveats in the documentation: http://pandas.pydata.org/pandas-docs/stable/indexing.html#indexing-view-versus-copy\n",
            "  after removing the cwd from sys.path.\n"
          ],
          "name": "stderr"
        }
      ]
    },
    {
      "cell_type": "code",
      "metadata": {
        "id": "29VK1Swiemgk",
        "colab_type": "code",
        "outputId": "8fcc29d8-6067-41e9-d485-d96028f0085b",
        "colab": {
          "base_uri": "https://localhost:8080/",
          "height": 49
        }
      },
      "source": [
        "get_missing_count(testing_df)"
      ],
      "execution_count": 55,
      "outputs": [
        {
          "output_type": "execute_result",
          "data": {
            "text/html": [
              "<div>\n",
              "<style scoped>\n",
              "    .dataframe tbody tr th:only-of-type {\n",
              "        vertical-align: middle;\n",
              "    }\n",
              "\n",
              "    .dataframe tbody tr th {\n",
              "        vertical-align: top;\n",
              "    }\n",
              "\n",
              "    .dataframe thead th {\n",
              "        text-align: right;\n",
              "    }\n",
              "</style>\n",
              "<table border=\"1\" class=\"dataframe\">\n",
              "  <thead>\n",
              "    <tr style=\"text-align: right;\">\n",
              "      <th></th>\n",
              "      <th>column_name</th>\n",
              "      <th>missing_count</th>\n",
              "    </tr>\n",
              "  </thead>\n",
              "  <tbody>\n",
              "  </tbody>\n",
              "</table>\n",
              "</div>"
            ],
            "text/plain": [
              "Empty DataFrame\n",
              "Columns: [column_name, missing_count]\n",
              "Index: []"
            ]
          },
          "metadata": {
            "tags": []
          },
          "execution_count": 55
        }
      ]
    },
    {
      "cell_type": "code",
      "metadata": {
        "id": "vLkFixxom-Ot",
        "colab_type": "code",
        "colab": {}
      },
      "source": [
        "ids= testing_df.Col1\n",
        "testing_df.drop('Col1',axis=1,inplace=True)"
      ],
      "execution_count": 0,
      "outputs": []
    },
    {
      "cell_type": "code",
      "metadata": {
        "id": "GFKAGUOOeme2",
        "colab_type": "code",
        "colab": {}
      },
      "source": [
        "target=training_df.Col2\n",
        "candidate_train_predictors = training_df.drop(['Col1','Col2'], axis=1)\n",
        "low_cardinality_cols = [cname for cname in candidate_train_predictors.columns\n",
        "                                       if candidate_train_predictors[cname].nunique()< 20 and\n",
        "                                       candidate_train_predictors[cname].dtype==\"object\"]\n",
        "\n",
        "numeric_cols = [cname for cname in candidate_train_predictors.columns\n",
        "                               if candidate_train_predictors[cname].dtype in ['int64', 'float64']]\n",
        "useful_cols = low_cardinality_cols + numeric_cols\n",
        "train_predictors = candidate_train_predictors[useful_cols]\n"
      ],
      "execution_count": 0,
      "outputs": []
    },
    {
      "cell_type": "code",
      "metadata": {
        "id": "yrXBsyhWemdI",
        "colab_type": "code",
        "colab": {}
      },
      "source": [
        "one_hot_encoded_data = pd.get_dummies(train_predictors)"
      ],
      "execution_count": 0,
      "outputs": []
    },
    {
      "cell_type": "code",
      "metadata": {
        "id": "JYWafT6zemS-",
        "colab_type": "code",
        "colab": {}
      },
      "source": [
        "x_train,x_test,y_train,y_test = train_test_split(one_hot_encoded_data,target,test_size = 0.3,random_state = 1)"
      ],
      "execution_count": 0,
      "outputs": []
    },
    {
      "cell_type": "code",
      "metadata": {
        "id": "GNDZTbhwc0_q",
        "colab_type": "code",
        "outputId": "7534214e-654b-4830-8fcc-89b9f337a15d",
        "colab": {
          "base_uri": "https://localhost:8080/",
          "height": 34
        }
      },
      "source": [
        "from sklearn.tree import DecisionTreeClassifier\n",
        "dtree = DecisionTreeClassifier()\n",
        "dtree.fit(x_train,y_train)\n",
        "prediction = dtree.predict(x_test)\n",
        "\n",
        "print('With Decision tree accuracy is: ',dtree.score(x_test,y_test))"
      ],
      "execution_count": 64,
      "outputs": [
        {
          "output_type": "stream",
          "text": [
            "With Decision tree accuracy is:  0.8333650370933993\n"
          ],
          "name": "stdout"
        }
      ]
    },
    {
      "cell_type": "code",
      "metadata": {
        "id": "P1v5Xd3goVKj",
        "colab_type": "code",
        "colab": {}
      },
      "source": [
        "prediction=dtree.predict(testing_df)\n"
      ],
      "execution_count": 0,
      "outputs": []
    },
    {
      "cell_type": "code",
      "metadata": {
        "id": "qDBfa7yOojVj",
        "colab_type": "code",
        "colab": {}
      },
      "source": [
        "dataset = pd.DataFrame({'Col1': list(ids), 'Col2': prediction}, columns=['Col1', 'Col2'])\n",
        "dataset.to_csv('/content/drive/My Drive/HDFC/d407ebe0db9a11e9/DataSet/Submission.csv',header=True,index=False)"
      ],
      "execution_count": 0,
      "outputs": []
    },
    {
      "cell_type": "code",
      "metadata": {
        "id": "Jislwwz9paxG",
        "colab_type": "code",
        "colab": {}
      },
      "source": [
        "from sklearn.linear_model import LogisticRegression\n",
        "from sklearn.model_selection import GridSearchCV\n",
        "param_grid = {\"C\": np.logspace(-3,3,7), \"penalty\" : [\"l1\",\"l2\"]}\n",
        "\n",
        "logreg = LogisticRegression()\n",
        "logreg_cv = GridSearchCV(logreg,param_grid,cv = 10)\n",
        "logreg_cv.fit(x_train,y_train)  "
      ],
      "execution_count": 0,
      "outputs": []
    },
    {
      "cell_type": "code",
      "metadata": {
        "id": "YQKqaUvRqB_o",
        "colab_type": "code",
        "colab": {}
      },
      "source": [
        "print(\"tuned hyperparameters: (best parameters): \", logreg_cv.best_params_)\n",
        "print(\"accuracy: \", logreg_cv.best_score_)\n",
        "\n"
      ],
      "execution_count": 0,
      "outputs": []
    },
    {
      "cell_type": "code",
      "metadata": {
        "id": "1fJDnJ0kqKe5",
        "colab_type": "code",
        "colab": {}
      },
      "source": [
        "logreg2 = LogisticRegression(C = 10, penalty=\"l2\")\n",
        "logreg2.fit(x_train,y_train)\n",
        "print(\"score: \", logreg2.score(x_test,y_test))"
      ],
      "execution_count": 0,
      "outputs": []
    },
    {
      "cell_type": "code",
      "metadata": {
        "id": "L9eE0UMssBY_",
        "colab_type": "code",
        "colab": {}
      },
      "source": [
        "xgboost = XGBClassifier(max_depth=5, learning_rate=0.01, n_estimators=100, gamma=0, \n",
        "                        min_child_weight=1, subsample=0.8, colsample_bytree=0.8, reg_alpha=0.005)\n",
        "\n",
        "xgboost.fit(X_train, y_train)\n",
        "preds = xgboost.predict(X_test)\n",
        "\n",
        "accuracy = (preds == y_test).sum().astype(float) / len(preds)*100\n",
        "\n",
        "print(\"XGBoost's prediction accuracy WITH optimal hyperparameters is: %3.2f\" % (accuracy))"
      ],
      "execution_count": 0,
      "outputs": []
    },
    {
      "cell_type": "code",
      "metadata": {
        "id": "fD2c0uHvsVXj",
        "colab_type": "code",
        "colab": {}
      },
      "source": [
        "\n",
        "\n",
        "print(\"F1-Score:\", f1_score(sdss['class'], predictions, average='micro'))\n",
        "\n"
      ],
      "execution_count": 0,
      "outputs": []
    }
  ]
}