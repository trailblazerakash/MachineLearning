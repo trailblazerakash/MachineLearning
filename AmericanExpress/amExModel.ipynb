{
  "nbformat": 4,
  "nbformat_minor": 0,
  "metadata": {
    "colab": {
      "name": "amExModel.ipynb",
      "provenance": [],
      "include_colab_link": true
    },
    "kernelspec": {
      "name": "python3",
      "display_name": "Python 3"
    }
  },
  "cells": [
    {
      "cell_type": "markdown",
      "metadata": {
        "id": "view-in-github",
        "colab_type": "text"
      },
      "source": [
        "<a href=\"https://colab.research.google.com/github/trailblazerakash/MachineLearning/blob/master/AmericanExpress/amExModel.ipynb\" target=\"_parent\"><img src=\"https://colab.research.google.com/assets/colab-badge.svg\" alt=\"Open In Colab\"/></a>"
      ]
    },
    {
      "cell_type": "code",
      "metadata": {
        "id": "Jabx5snYUv2q",
        "colab_type": "code",
        "outputId": "770dbf7c-ddf0-4880-ee41-fa5edf241331",
        "colab": {
          "base_uri": "https://localhost:8080/",
          "height": 124
        }
      },
      "source": [
        "from google.colab import drive\n",
        "drive.mount('/content/drive')"
      ],
      "execution_count": 1,
      "outputs": [
        {
          "output_type": "stream",
          "text": [
            "Go to this URL in a browser: https://accounts.google.com/o/oauth2/auth?client_id=947318989803-6bn6qk8qdgf4n4g3pfee6491hc0brc4i.apps.googleusercontent.com&redirect_uri=urn%3Aietf%3Awg%3Aoauth%3A2.0%3Aoob&scope=email%20https%3A%2F%2Fwww.googleapis.com%2Fauth%2Fdocs.test%20https%3A%2F%2Fwww.googleapis.com%2Fauth%2Fdrive%20https%3A%2F%2Fwww.googleapis.com%2Fauth%2Fdrive.photos.readonly%20https%3A%2F%2Fwww.googleapis.com%2Fauth%2Fpeopleapi.readonly&response_type=code\n",
            "\n",
            "Enter your authorization code:\n",
            "··········\n",
            "Mounted at /content/drive\n"
          ],
          "name": "stdout"
        }
      ]
    },
    {
      "cell_type": "code",
      "metadata": {
        "id": "acFO1uRCbH37",
        "colab_type": "code",
        "colab": {
          "base_uri": "https://localhost:8080/",
          "height": 34
        },
        "outputId": "74646872-059c-4ebc-8475-2abb4c64732f"
      },
      "source": [
        "import pandas as pd\n",
        "import numpy as np\n",
        "import gc\n",
        "\n",
        "#import mlcrate as mlc\n",
        "import pandas as pd\n",
        "import numpy as np\n",
        "from datetime import timedelta\n",
        "from tqdm import tqdm_notebook as tqdm\n",
        "from sklearn import metrics\n",
        "from sklearn.model_selection import StratifiedKFold\n",
        "import lightgbm as lgb\n",
        "from matplotlib import pyplot as plt\n",
        "import seaborn as sns\n",
        "from collections import defaultdict, Counter\n",
        "import pickle as pkl\n",
        "import seaborn as sns\n",
        "from keras.layers.normalization import BatchNormalization\n",
        "from keras.models import Sequential, Model\n",
        "from keras.layers import Input, Embedding, Dense, Flatten, Concatenate, Dot, Reshape, Add, Subtract\n",
        "from keras import objectives\n",
        "from keras import backend as K\n",
        "from keras import regularizers \n",
        "from keras.optimizers import Adam\n",
        "from keras.callbacks import EarlyStopping, ModelCheckpoint\n",
        "from keras.regularizers import l2\n",
        "import tensorflow as tf\n",
        "from sklearn.metrics import roc_auc_score\n",
        "from keras.layers import (Input, Lambda, Embedding, GaussianDropout, Reshape, CuDNNGRU,\n",
        "                          BatchNormalization, Dropout, Dense, PReLU, Layer,ReLU, LeakyReLU,GRU, Bidirectional)\n",
        "from keras.layers.merge import concatenate\n",
        "from sklearn.model_selection import KFold, GroupKFold\n",
        "from keras import callbacks\n",
        "from keras.layers import (Input, Lambda, Embedding, GaussianDropout, Reshape, CuDNNGRU,\n",
        "                          BatchNormalization, Dropout, Dense, PReLU, Layer,ReLU, LeakyReLU,GRU, Bidirectional)"
      ],
      "execution_count": 3,
      "outputs": [
        {
          "output_type": "stream",
          "text": [
            "Using TensorFlow backend.\n"
          ],
          "name": "stderr"
        }
      ]
    },
    {
      "cell_type": "code",
      "metadata": {
        "id": "P5x2YV4yU71D",
        "colab_type": "code",
        "colab": {}
      },
      "source": [
        "campaign_data= pd.read_csv('/content/drive/My Drive/amExprt/train/campaign_data.csv')\n",
        "coupon_item_mapping=pd.read_csv('/content/drive/My Drive/amExprt/train/coupon_item_mapping.csv')\n",
        "customer_demographics=pd.read_csv('/content/drive/My Drive/amExprt/train/customer_demographics.csv')\n",
        "customer_transaction_data=pd.read_csv('/content/drive/My Drive/amExprt/train/customer_transaction_data.csv')\n",
        "item_data=pd.read_csv('/content/drive/My Drive/amExprt/train/item_data.csv')\n",
        "train=pd.read_csv('/content/drive/My Drive/amExprt/train/train.csv')\n",
        "\n",
        "\n",
        "test=pd.read_csv('/content/drive/My Drive/amExprt/test.csv')\n"
      ],
      "execution_count": 0,
      "outputs": []
    },
    {
      "cell_type": "code",
      "metadata": {
        "id": "ReP6LQfcbF-V",
        "colab_type": "code",
        "colab": {}
      },
      "source": [
        "data = pd.concat([train, test], sort=False).reset_index(drop = True)"
      ],
      "execution_count": 0,
      "outputs": []
    },
    {
      "cell_type": "code",
      "metadata": {
        "id": "yfZlESOqbO6h",
        "colab_type": "code",
        "colab": {
          "base_uri": "https://localhost:8080/",
          "height": 206
        },
        "outputId": "28791707-5c91-45bf-fa01-610e71790305"
      },
      "source": [
        "data.head()"
      ],
      "execution_count": 11,
      "outputs": [
        {
          "output_type": "execute_result",
          "data": {
            "text/html": [
              "<div>\n",
              "<style scoped>\n",
              "    .dataframe tbody tr th:only-of-type {\n",
              "        vertical-align: middle;\n",
              "    }\n",
              "\n",
              "    .dataframe tbody tr th {\n",
              "        vertical-align: top;\n",
              "    }\n",
              "\n",
              "    .dataframe thead th {\n",
              "        text-align: right;\n",
              "    }\n",
              "</style>\n",
              "<table border=\"1\" class=\"dataframe\">\n",
              "  <thead>\n",
              "    <tr style=\"text-align: right;\">\n",
              "      <th></th>\n",
              "      <th>id</th>\n",
              "      <th>campaign_id</th>\n",
              "      <th>coupon_id</th>\n",
              "      <th>customer_id</th>\n",
              "      <th>redemption_status</th>\n",
              "    </tr>\n",
              "  </thead>\n",
              "  <tbody>\n",
              "    <tr>\n",
              "      <th>0</th>\n",
              "      <td>1</td>\n",
              "      <td>13</td>\n",
              "      <td>27</td>\n",
              "      <td>1053</td>\n",
              "      <td>0.0</td>\n",
              "    </tr>\n",
              "    <tr>\n",
              "      <th>1</th>\n",
              "      <td>2</td>\n",
              "      <td>13</td>\n",
              "      <td>116</td>\n",
              "      <td>48</td>\n",
              "      <td>0.0</td>\n",
              "    </tr>\n",
              "    <tr>\n",
              "      <th>2</th>\n",
              "      <td>6</td>\n",
              "      <td>9</td>\n",
              "      <td>635</td>\n",
              "      <td>205</td>\n",
              "      <td>0.0</td>\n",
              "    </tr>\n",
              "    <tr>\n",
              "      <th>3</th>\n",
              "      <td>7</td>\n",
              "      <td>13</td>\n",
              "      <td>644</td>\n",
              "      <td>1050</td>\n",
              "      <td>0.0</td>\n",
              "    </tr>\n",
              "    <tr>\n",
              "      <th>4</th>\n",
              "      <td>9</td>\n",
              "      <td>8</td>\n",
              "      <td>1017</td>\n",
              "      <td>1489</td>\n",
              "      <td>0.0</td>\n",
              "    </tr>\n",
              "  </tbody>\n",
              "</table>\n",
              "</div>"
            ],
            "text/plain": [
              "   id  campaign_id  coupon_id  customer_id  redemption_status\n",
              "0   1           13         27         1053                0.0\n",
              "1   2           13        116           48                0.0\n",
              "2   6            9        635          205                0.0\n",
              "3   7           13        644         1050                0.0\n",
              "4   9            8       1017         1489                0.0"
            ]
          },
          "metadata": {
            "tags": []
          },
          "execution_count": 11
        }
      ]
    },
    {
      "cell_type": "code",
      "metadata": {
        "id": "BajaMSriP-GD",
        "colab_type": "code",
        "colab": {}
      },
      "source": [
        "ltr = len(train)\n",
        "data = data.merge(campaign_data, on='campaign_id')#  campaign_data\n",
        "data['start_date'] = pd.to_datetime(data['start_date'], dayfirst=True)\n",
        "data['end_date'] = pd.to_datetime(data['end_date'], dayfirst=True)\n",
        "data['campaign_type'] = pd.Series(data['campaign_type'].factorize()[0]).replace(-1, np.nan)"
      ],
      "execution_count": 0,
      "outputs": []
    },
    {
      "cell_type": "code",
      "metadata": {
        "id": "26HTmqB8QFur",
        "colab_type": "code",
        "colab": {}
      },
      "source": [
        "customer_demographics['no_of_children'] = customer_demographics['no_of_children'].replace('3+', 3).astype(float)\n",
        "customer_demographics['family_size'] = customer_demographics['family_size'].replace('5+', 3).astype(float)\n",
        "customer_demographics['marital_status'] = pd.Series(customer_demographics['marital_status'].factorize()[0]).replace(-1, np.nan)\n",
        "customer_demographics['age_range'] = pd.Series(customer_demographics['age_range'].factorize()[0]).replace(-1, np.nan)"
      ],
      "execution_count": 0,
      "outputs": []
    },
    {
      "cell_type": "code",
      "metadata": {
        "id": "DtfKCZD0QY6I",
        "colab_type": "code",
        "colab": {}
      },
      "source": [
        "rented_mean = customer_demographics.groupby(\"customer_id\")['rented'].mean().to_dict()\n",
        "data['rented_mean'] = data['customer_id'].map(rented_mean)\n",
        "# income_bracket\n",
        "income_bracket_sum = customer_demographics.groupby(\"customer_id\")['income_bracket'].sum().to_dict()\n",
        "data['income_bracket_sum'] = data['customer_id'].map(income_bracket_sum)\n",
        "# age_range\n",
        "age_range_mean = customer_demographics.groupby(\"customer_id\")['age_range'].mean().to_dict()\n",
        "data['age_range_mean'] = data['customer_id'].map(age_range_mean)\n",
        "# family_size\n",
        "family_size_mean = customer_demographics.groupby(\"customer_id\")['family_size'].mean().to_dict()\n",
        "data['family_size_mean'] = data['customer_id'].map(family_size_mean)\n",
        "# no_of_children\n",
        "no_of_children_mean = customer_demographics.groupby(\"customer_id\")['no_of_children'].mean().to_dict()\n",
        "data['no_of_children_mean'] = data['customer_id'].map(no_of_children_mean)\n",
        "no_of_children_count = customer_demographics.groupby(\"customer_id\")['no_of_children'].count().to_dict()\n",
        "data['no_of_children_count'] = data['customer_id'].map(no_of_children_count)\n",
        "# marital_status\n",
        "marital_status_count = customer_demographics.groupby(\"customer_id\")['marital_status'].count().to_dict()\n",
        "data['marital_status_count'] = data['customer_id'].map(marital_status_count)"
      ],
      "execution_count": 0,
      "outputs": []
    },
    {
      "cell_type": "code",
      "metadata": {
        "id": "HPLFu9pjQcsW",
        "colab_type": "code",
        "colab": {}
      },
      "source": [
        "customer_transaction_data['date'] = pd.to_datetime(customer_transaction_data['date'])\n",
        "quantity_mean = customer_transaction_data.groupby(\"customer_id\")['quantity'].mean().to_dict()\n",
        "data['quantity_mean'] = data['customer_id'].map(quantity_mean)\n",
        "coupon_discount_mean = customer_transaction_data.groupby(\"customer_id\")['coupon_discount'].mean().to_dict()\n",
        "data['coupon_discount_mean'] = data['customer_id'].map(coupon_discount_mean)\n",
        "# other_discount\n",
        "other_discount_mean = customer_transaction_data.groupby(\"customer_id\")['other_discount'].mean().to_dict()\n",
        "data['other_discount_mean'] = data['customer_id'].map(other_discount_mean)\n",
        "# day\n",
        "customer_transaction_data['day'] = customer_transaction_data.date.dt.day\n",
        "date_day_mean = customer_transaction_data.groupby(\"customer_id\")['day'].mean().to_dict()\n",
        "data['date_day_mean'] = data['customer_id'].map(date_day_mean)"
      ],
      "execution_count": 0,
      "outputs": []
    },
    {
      "cell_type": "code",
      "metadata": {
        "id": "s0Yl-5hCQhVk",
        "colab_type": "code",
        "colab": {}
      },
      "source": [
        "coupon_item_mapping = coupon_item_mapping.merge(item_data, how = 'left', on = 'item_id')\n",
        "coupon_item_mapping['brand_type'] = pd.Series(coupon_item_mapping['brand_type'].factorize()[0]).replace(-1, np.nan)\n",
        "coupon_item_mapping['category'] = pd.Series(coupon_item_mapping['category'].factorize()[0]).replace(-1, np.nan)\n",
        "\n",
        "category = coupon_item_mapping.groupby(\"coupon_id\")['category'].mean().to_dict()\n",
        "data['category_mean'] = data['coupon_id'].map(category)\n",
        "category = coupon_item_mapping.groupby(\"coupon_id\")['category'].count().to_dict()\n",
        "data['category_count'] = data['coupon_id'].map(category)\n",
        "category = coupon_item_mapping.groupby(\"coupon_id\")['category'].nunique().to_dict()\n",
        "data['category_nunique'] = data['coupon_id'].map(category)\n",
        "category = coupon_item_mapping.groupby(\"coupon_id\")['category'].max().to_dict()\n",
        "data['category_max'] = data['coupon_id'].map(category)\n",
        "category = coupon_item_mapping.groupby(\"coupon_id\")['category'].min().to_dict()\n",
        "data['category_min'] = data['coupon_id'].map(category)\n",
        "\n",
        "brand_mean = coupon_item_mapping.groupby(\"coupon_id\")['brand'].mean().to_dict()\n",
        "data['brand_mean'] = data['coupon_id'].map(brand_mean)\n",
        "brand_mean = coupon_item_mapping.groupby(\"coupon_id\")['brand'].count().to_dict()\n",
        "data['brand_count'] = data['coupon_id'].map(brand_mean)\n",
        "brand_mean = coupon_item_mapping.groupby(\"coupon_id\")['brand'].min().to_dict()\n",
        "data['brand_min'] = data['coupon_id'].map(brand_mean)\n",
        "brand_mean = coupon_item_mapping.groupby(\"coupon_id\")['brand'].max().to_dict()\n",
        "data['brand_max'] = data['coupon_id'].map(brand_mean)\n",
        "brand_mean = coupon_item_mapping.groupby(\"coupon_id\")['brand'].nunique().to_dict()\n",
        "data['brand_nunique'] = data['coupon_id'].map(brand_mean)"
      ],
      "execution_count": 0,
      "outputs": []
    },
    {
      "cell_type": "code",
      "metadata": {
        "id": "2jUngtGTQ19D",
        "colab_type": "code",
        "colab": {}
      },
      "source": [
        "selling_price_mean = customer_transaction_data.groupby(\"customer_id\")['selling_price'].mean().to_dict()\n",
        "data['selling_price_mean'] = data['customer_id'].map(selling_price_mean)\n",
        "selling_price_mean = customer_transaction_data.groupby(\"customer_id\")['selling_price'].sum().to_dict()\n",
        "data['selling_price_sum'] = data['customer_id'].map(selling_price_mean)\n",
        "selling_price_mean = customer_transaction_data.groupby(\"customer_id\")['selling_price'].min().to_dict()\n",
        "data['selling_price_min'] = data['customer_id'].map(selling_price_mean)\n",
        "selling_price_mean = customer_transaction_data.groupby(\"customer_id\")['selling_price'].max().to_dict()\n",
        "data['selling_price_max'] = data['customer_id'].map(selling_price_mean)\n",
        "selling_price_mean = customer_transaction_data.groupby(\"customer_id\")['selling_price'].nunique().to_dict()\n",
        "data['selling_price_nunique'] = data['customer_id'].map(selling_price_mean)\n",
        "train_cols = [i for i in data.columns if i not in ['id','redemption_status','start_date','end_date']]\n",
        "train_cols = ['campaign_id','coupon_id','campaign_type','rented_mean','income_bracket_sum','age_range_mean','family_size_mean',\n",
        " 'no_of_children_mean',\n",
        " 'no_of_children_count',\n",
        " 'marital_status_count',\n",
        " 'quantity_mean',\n",
        " 'coupon_discount_mean',\n",
        " 'other_discount_mean',\n",
        " 'date_day_mean',\n",
        " 'category_mean',\n",
        " 'category_nunique',\n",
        " 'category_max',\n",
        " 'category_min',\n",
        " 'brand_mean',\n",
        " 'brand_max',\n",
        " 'brand_nunique',\n",
        " 'selling_price_mean',\n",
        " 'selling_price_min',\n",
        " 'selling_price_nunique']\n",
        "data[train_cols] = data[train_cols].fillna(0)\n",
        "train = data[data['redemption_status'].notnull()]\n",
        "test = data[data['redemption_status'].isnull()]"
      ],
      "execution_count": 0,
      "outputs": []
    },
    {
      "cell_type": "code",
      "metadata": {
        "id": "BcQgJJN7Q-FY",
        "colab_type": "code",
        "colab": {}
      },
      "source": [
        ""
      ],
      "execution_count": 0,
      "outputs": []
    }
  ]
}